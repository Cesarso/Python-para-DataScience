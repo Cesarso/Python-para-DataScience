{
  "nbformat": 4,
  "nbformat_minor": 0,
  "metadata": {
    "colab": {
      "name": "Pandas IO.ipynb",
      "provenance": [],
      "collapsed_sections": [
        "LgE7h90FB7UE",
        "SzUDd8WtCO1y",
        "ioWSr3FXF5ae"
      ],
      "authorship_tag": "ABX9TyPQjRLC1UPaTPJNsz/exSDZ",
      "include_colab_link": true
    },
    "kernelspec": {
      "name": "python3",
      "display_name": "Python 3"
    }
  },
  "cells": [
    {
      "cell_type": "markdown",
      "metadata": {
        "id": "view-in-github",
        "colab_type": "text"
      },
      "source": [
        "<a href=\"https://colab.research.google.com/github/Cesarso/Python-para-DataScience/blob/main/Pandas_IO.ipynb\" target=\"_parent\"><img src=\"https://colab.research.google.com/assets/colab-badge.svg\" alt=\"Open In Colab\"/></a>"
      ]
    },
    {
      "cell_type": "code",
      "metadata": {
        "id": "u3_xCiTdB6i0"
      },
      "source": [
        ""
      ],
      "execution_count": 316,
      "outputs": []
    },
    {
      "cell_type": "markdown",
      "metadata": {
        "id": "LgE7h90FB7UE"
      },
      "source": [
        "# CRIANDO OS NOMES"
      ]
    },
    {
      "cell_type": "code",
      "metadata": {
        "id": "OEqG5HU69OBf"
      },
      "source": [
        "import pandas as pd\r\n"
      ],
      "execution_count": 317,
      "outputs": []
    },
    {
      "cell_type": "code",
      "metadata": {
        "id": "g7DrvV92-hKc"
      },
      "source": [
        "nomes_f = pd.read_json(\"https://servicodados.ibge.gov.br/api/v1/censos/nomes/ranking/?qtd=200&sexo=f\")"
      ],
      "execution_count": 318,
      "outputs": []
    },
    {
      "cell_type": "code",
      "metadata": {
        "id": "FxShW7Qk-zwx"
      },
      "source": [
        "nomes_m = pd.read_json(\"https://servicodados.ibge.gov.br/api/v1/censos/nomes/ranking/?qtd=200&sexo=m\")"
      ],
      "execution_count": 319,
      "outputs": []
    },
    {
      "cell_type": "code",
      "metadata": {
        "colab": {
          "base_uri": "https://localhost:8080/",
          "height": 419
        },
        "id": "8dN7w7lC_DSI",
        "outputId": "77ccff5e-9744-4625-f976-4e55ff2c7d97"
      },
      "source": [
        "nomes_f\r\n"
      ],
      "execution_count": 320,
      "outputs": [
        {
          "output_type": "execute_result",
          "data": {
            "text/html": [
              "<div>\n",
              "<style scoped>\n",
              "    .dataframe tbody tr th:only-of-type {\n",
              "        vertical-align: middle;\n",
              "    }\n",
              "\n",
              "    .dataframe tbody tr th {\n",
              "        vertical-align: top;\n",
              "    }\n",
              "\n",
              "    .dataframe thead th {\n",
              "        text-align: right;\n",
              "    }\n",
              "</style>\n",
              "<table border=\"1\" class=\"dataframe\">\n",
              "  <thead>\n",
              "    <tr style=\"text-align: right;\">\n",
              "      <th></th>\n",
              "      <th>nome</th>\n",
              "      <th>regiao</th>\n",
              "      <th>freq</th>\n",
              "      <th>rank</th>\n",
              "      <th>sexo</th>\n",
              "    </tr>\n",
              "  </thead>\n",
              "  <tbody>\n",
              "    <tr>\n",
              "      <th>0</th>\n",
              "      <td>MARIA</td>\n",
              "      <td>0</td>\n",
              "      <td>11694738</td>\n",
              "      <td>1</td>\n",
              "      <td>F</td>\n",
              "    </tr>\n",
              "    <tr>\n",
              "      <th>1</th>\n",
              "      <td>ANA</td>\n",
              "      <td>0</td>\n",
              "      <td>3079729</td>\n",
              "      <td>2</td>\n",
              "      <td>F</td>\n",
              "    </tr>\n",
              "    <tr>\n",
              "      <th>2</th>\n",
              "      <td>FRANCISCA</td>\n",
              "      <td>0</td>\n",
              "      <td>721637</td>\n",
              "      <td>3</td>\n",
              "      <td>F</td>\n",
              "    </tr>\n",
              "    <tr>\n",
              "      <th>3</th>\n",
              "      <td>ANTONIA</td>\n",
              "      <td>0</td>\n",
              "      <td>588783</td>\n",
              "      <td>4</td>\n",
              "      <td>F</td>\n",
              "    </tr>\n",
              "    <tr>\n",
              "      <th>4</th>\n",
              "      <td>ADRIANA</td>\n",
              "      <td>0</td>\n",
              "      <td>565621</td>\n",
              "      <td>5</td>\n",
              "      <td>F</td>\n",
              "    </tr>\n",
              "    <tr>\n",
              "      <th>...</th>\n",
              "      <td>...</td>\n",
              "      <td>...</td>\n",
              "      <td>...</td>\n",
              "      <td>...</td>\n",
              "      <td>...</td>\n",
              "    </tr>\n",
              "    <tr>\n",
              "      <th>195</th>\n",
              "      <td>ROSANE</td>\n",
              "      <td>0</td>\n",
              "      <td>82203</td>\n",
              "      <td>196</td>\n",
              "      <td>F</td>\n",
              "    </tr>\n",
              "    <tr>\n",
              "      <th>196</th>\n",
              "      <td>IVONETE</td>\n",
              "      <td>0</td>\n",
              "      <td>81878</td>\n",
              "      <td>197</td>\n",
              "      <td>F</td>\n",
              "    </tr>\n",
              "    <tr>\n",
              "      <th>197</th>\n",
              "      <td>LUCIANE</td>\n",
              "      <td>0</td>\n",
              "      <td>81230</td>\n",
              "      <td>198</td>\n",
              "      <td>F</td>\n",
              "    </tr>\n",
              "    <tr>\n",
              "      <th>198</th>\n",
              "      <td>ISADORA</td>\n",
              "      <td>0</td>\n",
              "      <td>81100</td>\n",
              "      <td>199</td>\n",
              "      <td>F</td>\n",
              "    </tr>\n",
              "    <tr>\n",
              "      <th>199</th>\n",
              "      <td>NILZA</td>\n",
              "      <td>0</td>\n",
              "      <td>80128</td>\n",
              "      <td>200</td>\n",
              "      <td>F</td>\n",
              "    </tr>\n",
              "  </tbody>\n",
              "</table>\n",
              "<p>200 rows × 5 columns</p>\n",
              "</div>"
            ],
            "text/plain": [
              "          nome  regiao      freq  rank sexo\n",
              "0        MARIA       0  11694738     1    F\n",
              "1          ANA       0   3079729     2    F\n",
              "2    FRANCISCA       0    721637     3    F\n",
              "3      ANTONIA       0    588783     4    F\n",
              "4      ADRIANA       0    565621     5    F\n",
              "..         ...     ...       ...   ...  ...\n",
              "195     ROSANE       0     82203   196    F\n",
              "196    IVONETE       0     81878   197    F\n",
              "197    LUCIANE       0     81230   198    F\n",
              "198    ISADORA       0     81100   199    F\n",
              "199      NILZA       0     80128   200    F\n",
              "\n",
              "[200 rows x 5 columns]"
            ]
          },
          "metadata": {
            "tags": []
          },
          "execution_count": 320
        }
      ]
    },
    {
      "cell_type": "code",
      "metadata": {
        "colab": {
          "base_uri": "https://localhost:8080/",
          "height": 419
        },
        "id": "7-X2Z0JY_a4g",
        "outputId": "190f2755-dff7-4644-e44d-41c41f8498f9"
      },
      "source": [
        "nomes_m"
      ],
      "execution_count": 321,
      "outputs": [
        {
          "output_type": "execute_result",
          "data": {
            "text/html": [
              "<div>\n",
              "<style scoped>\n",
              "    .dataframe tbody tr th:only-of-type {\n",
              "        vertical-align: middle;\n",
              "    }\n",
              "\n",
              "    .dataframe tbody tr th {\n",
              "        vertical-align: top;\n",
              "    }\n",
              "\n",
              "    .dataframe thead th {\n",
              "        text-align: right;\n",
              "    }\n",
              "</style>\n",
              "<table border=\"1\" class=\"dataframe\">\n",
              "  <thead>\n",
              "    <tr style=\"text-align: right;\">\n",
              "      <th></th>\n",
              "      <th>nome</th>\n",
              "      <th>regiao</th>\n",
              "      <th>freq</th>\n",
              "      <th>rank</th>\n",
              "      <th>sexo</th>\n",
              "    </tr>\n",
              "  </thead>\n",
              "  <tbody>\n",
              "    <tr>\n",
              "      <th>0</th>\n",
              "      <td>JOSE</td>\n",
              "      <td>0</td>\n",
              "      <td>5732508</td>\n",
              "      <td>1</td>\n",
              "      <td>M</td>\n",
              "    </tr>\n",
              "    <tr>\n",
              "      <th>1</th>\n",
              "      <td>JOAO</td>\n",
              "      <td>0</td>\n",
              "      <td>2971935</td>\n",
              "      <td>2</td>\n",
              "      <td>M</td>\n",
              "    </tr>\n",
              "    <tr>\n",
              "      <th>2</th>\n",
              "      <td>ANTONIO</td>\n",
              "      <td>0</td>\n",
              "      <td>2567494</td>\n",
              "      <td>3</td>\n",
              "      <td>M</td>\n",
              "    </tr>\n",
              "    <tr>\n",
              "      <th>3</th>\n",
              "      <td>FRANCISCO</td>\n",
              "      <td>0</td>\n",
              "      <td>1765197</td>\n",
              "      <td>4</td>\n",
              "      <td>M</td>\n",
              "    </tr>\n",
              "    <tr>\n",
              "      <th>4</th>\n",
              "      <td>CARLOS</td>\n",
              "      <td>0</td>\n",
              "      <td>1483121</td>\n",
              "      <td>5</td>\n",
              "      <td>M</td>\n",
              "    </tr>\n",
              "    <tr>\n",
              "      <th>...</th>\n",
              "      <td>...</td>\n",
              "      <td>...</td>\n",
              "      <td>...</td>\n",
              "      <td>...</td>\n",
              "      <td>...</td>\n",
              "    </tr>\n",
              "    <tr>\n",
              "      <th>195</th>\n",
              "      <td>WALTER</td>\n",
              "      <td>0</td>\n",
              "      <td>67207</td>\n",
              "      <td>196</td>\n",
              "      <td>M</td>\n",
              "    </tr>\n",
              "    <tr>\n",
              "      <th>196</th>\n",
              "      <td>ARLINDO</td>\n",
              "      <td>0</td>\n",
              "      <td>66669</td>\n",
              "      <td>197</td>\n",
              "      <td>M</td>\n",
              "    </tr>\n",
              "    <tr>\n",
              "      <th>197</th>\n",
              "      <td>MICHAEL</td>\n",
              "      <td>0</td>\n",
              "      <td>65736</td>\n",
              "      <td>198</td>\n",
              "      <td>M</td>\n",
              "    </tr>\n",
              "    <tr>\n",
              "      <th>198</th>\n",
              "      <td>ALVARO</td>\n",
              "      <td>0</td>\n",
              "      <td>65444</td>\n",
              "      <td>199</td>\n",
              "      <td>M</td>\n",
              "    </tr>\n",
              "    <tr>\n",
              "      <th>199</th>\n",
              "      <td>GEOVANE</td>\n",
              "      <td>0</td>\n",
              "      <td>65435</td>\n",
              "      <td>200</td>\n",
              "      <td>M</td>\n",
              "    </tr>\n",
              "  </tbody>\n",
              "</table>\n",
              "<p>200 rows × 5 columns</p>\n",
              "</div>"
            ],
            "text/plain": [
              "          nome  regiao     freq  rank sexo\n",
              "0         JOSE       0  5732508     1    M\n",
              "1         JOAO       0  2971935     2    M\n",
              "2      ANTONIO       0  2567494     3    M\n",
              "3    FRANCISCO       0  1765197     4    M\n",
              "4       CARLOS       0  1483121     5    M\n",
              "..         ...     ...      ...   ...  ...\n",
              "195     WALTER       0    67207   196    M\n",
              "196    ARLINDO       0    66669   197    M\n",
              "197    MICHAEL       0    65736   198    M\n",
              "198     ALVARO       0    65444   199    M\n",
              "199    GEOVANE       0    65435   200    M\n",
              "\n",
              "[200 rows x 5 columns]"
            ]
          },
          "metadata": {
            "tags": []
          },
          "execution_count": 321
        }
      ]
    },
    {
      "cell_type": "code",
      "metadata": {
        "colab": {
          "base_uri": "https://localhost:8080/"
        },
        "id": "8CWxY_GW_cCO",
        "outputId": "ff76b106-7d18-4edc-fa61-bb9ef65b3cb5"
      },
      "source": [
        "print(\"Quantidade de nomes: \" + str(len(nomes_f) + len(nomes_m)))"
      ],
      "execution_count": 322,
      "outputs": [
        {
          "output_type": "stream",
          "text": [
            "Quantidade de nomes: 400\n"
          ],
          "name": "stdout"
        }
      ]
    },
    {
      "cell_type": "code",
      "metadata": {
        "id": "ePefin-mAIdF"
      },
      "source": [
        "frames = [nomes_f, nomes_m]  # a variavel frame recebe a lista de nomes como um DataFrame"
      ],
      "execution_count": 323,
      "outputs": []
    },
    {
      "cell_type": "code",
      "metadata": {
        "id": "3xbTe_s4AaBj"
      },
      "source": [
        "nomes = pd.concat(frames)['nome'].to_frame() #concatenando os frames escolhendo somente a coluna nomes"
      ],
      "execution_count": 324,
      "outputs": []
    },
    {
      "cell_type": "code",
      "metadata": {
        "colab": {
          "base_uri": "https://localhost:8080/",
          "height": 204
        },
        "id": "Gn_hslpmAsc6",
        "outputId": "9e8ccaf0-d59b-43fb-a89b-ae599ab048ea"
      },
      "source": [
        "nomes.sample(5) # sample pega nomes aleatorios da lista"
      ],
      "execution_count": 325,
      "outputs": [
        {
          "output_type": "execute_result",
          "data": {
            "text/html": [
              "<div>\n",
              "<style scoped>\n",
              "    .dataframe tbody tr th:only-of-type {\n",
              "        vertical-align: middle;\n",
              "    }\n",
              "\n",
              "    .dataframe tbody tr th {\n",
              "        vertical-align: top;\n",
              "    }\n",
              "\n",
              "    .dataframe thead th {\n",
              "        text-align: right;\n",
              "    }\n",
              "</style>\n",
              "<table border=\"1\" class=\"dataframe\">\n",
              "  <thead>\n",
              "    <tr style=\"text-align: right;\">\n",
              "      <th></th>\n",
              "      <th>nome</th>\n",
              "    </tr>\n",
              "  </thead>\n",
              "  <tbody>\n",
              "    <tr>\n",
              "      <th>142</th>\n",
              "      <td>RAISSA</td>\n",
              "    </tr>\n",
              "    <tr>\n",
              "      <th>47</th>\n",
              "      <td>LUCIA</td>\n",
              "    </tr>\n",
              "    <tr>\n",
              "      <th>156</th>\n",
              "      <td>VALDEMAR</td>\n",
              "    </tr>\n",
              "    <tr>\n",
              "      <th>167</th>\n",
              "      <td>TAINARA</td>\n",
              "    </tr>\n",
              "    <tr>\n",
              "      <th>197</th>\n",
              "      <td>MICHAEL</td>\n",
              "    </tr>\n",
              "  </tbody>\n",
              "</table>\n",
              "</div>"
            ],
            "text/plain": [
              "         nome\n",
              "142    RAISSA\n",
              "47      LUCIA\n",
              "156  VALDEMAR\n",
              "167   TAINARA\n",
              "197   MICHAEL"
            ]
          },
          "metadata": {
            "tags": []
          },
          "execution_count": 325
        }
      ]
    },
    {
      "cell_type": "code",
      "metadata": {
        "id": "bQDXuA1qBZI4"
      },
      "source": [
        ""
      ],
      "execution_count": 325,
      "outputs": []
    },
    {
      "cell_type": "code",
      "metadata": {
        "id": "b76rv8ZcB_L0"
      },
      "source": [
        ""
      ],
      "execution_count": 325,
      "outputs": []
    },
    {
      "cell_type": "code",
      "metadata": {
        "id": "CIhBMiA6CHXy"
      },
      "source": [
        ""
      ],
      "execution_count": 325,
      "outputs": []
    },
    {
      "cell_type": "markdown",
      "metadata": {
        "id": "SzUDd8WtCO1y"
      },
      "source": [
        "# INCLUINDO ID DOS ALUNOS"
      ]
    },
    {
      "cell_type": "code",
      "metadata": {
        "id": "oJcWasLqCNq0"
      },
      "source": [
        "import numpy as np\r\n",
        "np.random.seed(123) # Gera um Nº aleatorio a partir desse numero"
      ],
      "execution_count": 326,
      "outputs": []
    },
    {
      "cell_type": "code",
      "metadata": {
        "colab": {
          "base_uri": "https://localhost:8080/"
        },
        "id": "AOuy0slsCa98",
        "outputId": "c50ca2ba-b072-41d0-86a9-40038c56af3f"
      },
      "source": [
        "total_alunos = len(nomes)\r\n",
        "total_alunos"
      ],
      "execution_count": 327,
      "outputs": [
        {
          "output_type": "execute_result",
          "data": {
            "text/plain": [
              "400"
            ]
          },
          "metadata": {
            "tags": []
          },
          "execution_count": 327
        }
      ]
    },
    {
      "cell_type": "code",
      "metadata": {
        "id": "vfIroFQACx6D"
      },
      "source": [
        "nomes[\"id_aluno\"] = np.random.permutation(total_alunos) + 1"
      ],
      "execution_count": 328,
      "outputs": []
    },
    {
      "cell_type": "code",
      "metadata": {
        "colab": {
          "base_uri": "https://localhost:8080/",
          "height": 0
        },
        "id": "N6JBF6UcDHCh",
        "outputId": "12a72028-3e05-4a56-d357-853cd51f39b4"
      },
      "source": [
        "nomes.sample(5)"
      ],
      "execution_count": 329,
      "outputs": [
        {
          "output_type": "execute_result",
          "data": {
            "text/html": [
              "<div>\n",
              "<style scoped>\n",
              "    .dataframe tbody tr th:only-of-type {\n",
              "        vertical-align: middle;\n",
              "    }\n",
              "\n",
              "    .dataframe tbody tr th {\n",
              "        vertical-align: top;\n",
              "    }\n",
              "\n",
              "    .dataframe thead th {\n",
              "        text-align: right;\n",
              "    }\n",
              "</style>\n",
              "<table border=\"1\" class=\"dataframe\">\n",
              "  <thead>\n",
              "    <tr style=\"text-align: right;\">\n",
              "      <th></th>\n",
              "      <th>nome</th>\n",
              "      <th>id_aluno</th>\n",
              "    </tr>\n",
              "  </thead>\n",
              "  <tbody>\n",
              "    <tr>\n",
              "      <th>188</th>\n",
              "      <td>POLIANA</td>\n",
              "      <td>369</td>\n",
              "    </tr>\n",
              "    <tr>\n",
              "      <th>57</th>\n",
              "      <td>DAIANE</td>\n",
              "      <td>303</td>\n",
              "    </tr>\n",
              "    <tr>\n",
              "      <th>3</th>\n",
              "      <td>FRANCISCO</td>\n",
              "      <td>382</td>\n",
              "    </tr>\n",
              "    <tr>\n",
              "      <th>182</th>\n",
              "      <td>CHARLES</td>\n",
              "      <td>33</td>\n",
              "    </tr>\n",
              "    <tr>\n",
              "      <th>30</th>\n",
              "      <td>ANDERSON</td>\n",
              "      <td>111</td>\n",
              "    </tr>\n",
              "  </tbody>\n",
              "</table>\n",
              "</div>"
            ],
            "text/plain": [
              "          nome  id_aluno\n",
              "188    POLIANA       369\n",
              "57      DAIANE       303\n",
              "3    FRANCISCO       382\n",
              "182    CHARLES        33\n",
              "30    ANDERSON       111"
            ]
          },
          "metadata": {
            "tags": []
          },
          "execution_count": 329
        }
      ]
    },
    {
      "cell_type": "code",
      "metadata": {
        "id": "STOhivYlDKsp"
      },
      "source": [
        "dominios = ['@dominioemail.com.br', '@servicodoemail.com']\r\n",
        "nomes['dominio'] = np.random.choice(dominios, total_alunos)"
      ],
      "execution_count": 330,
      "outputs": []
    },
    {
      "cell_type": "code",
      "metadata": {
        "colab": {
          "base_uri": "https://localhost:8080/",
          "height": 0
        },
        "id": "harlR5rwD1uf",
        "outputId": "b9b3ff31-51f0-42a9-c963-f46a0c1b83ef"
      },
      "source": [
        "nomes.sample(5)"
      ],
      "execution_count": 331,
      "outputs": [
        {
          "output_type": "execute_result",
          "data": {
            "text/html": [
              "<div>\n",
              "<style scoped>\n",
              "    .dataframe tbody tr th:only-of-type {\n",
              "        vertical-align: middle;\n",
              "    }\n",
              "\n",
              "    .dataframe tbody tr th {\n",
              "        vertical-align: top;\n",
              "    }\n",
              "\n",
              "    .dataframe thead th {\n",
              "        text-align: right;\n",
              "    }\n",
              "</style>\n",
              "<table border=\"1\" class=\"dataframe\">\n",
              "  <thead>\n",
              "    <tr style=\"text-align: right;\">\n",
              "      <th></th>\n",
              "      <th>nome</th>\n",
              "      <th>id_aluno</th>\n",
              "      <th>dominio</th>\n",
              "    </tr>\n",
              "  </thead>\n",
              "  <tbody>\n",
              "    <tr>\n",
              "      <th>84</th>\n",
              "      <td>SEVERINO</td>\n",
              "      <td>78</td>\n",
              "      <td>@dominioemail.com.br</td>\n",
              "    </tr>\n",
              "    <tr>\n",
              "      <th>0</th>\n",
              "      <td>JOSE</td>\n",
              "      <td>331</td>\n",
              "      <td>@servicodoemail.com</td>\n",
              "    </tr>\n",
              "    <tr>\n",
              "      <th>179</th>\n",
              "      <td>IAGO</td>\n",
              "      <td>340</td>\n",
              "      <td>@dominioemail.com.br</td>\n",
              "    </tr>\n",
              "    <tr>\n",
              "      <th>10</th>\n",
              "      <td>SANDRA</td>\n",
              "      <td>174</td>\n",
              "      <td>@dominioemail.com.br</td>\n",
              "    </tr>\n",
              "    <tr>\n",
              "      <th>171</th>\n",
              "      <td>TERESINHA</td>\n",
              "      <td>45</td>\n",
              "      <td>@dominioemail.com.br</td>\n",
              "    </tr>\n",
              "  </tbody>\n",
              "</table>\n",
              "</div>"
            ],
            "text/plain": [
              "          nome  id_aluno               dominio\n",
              "84    SEVERINO        78  @dominioemail.com.br\n",
              "0         JOSE       331   @servicodoemail.com\n",
              "179       IAGO       340  @dominioemail.com.br\n",
              "10      SANDRA       174  @dominioemail.com.br\n",
              "171  TERESINHA        45  @dominioemail.com.br"
            ]
          },
          "metadata": {
            "tags": []
          },
          "execution_count": 331
        }
      ]
    },
    {
      "cell_type": "code",
      "metadata": {
        "id": "djUr6YuTD-4W"
      },
      "source": [
        "nomes['email'] = nomes.nome.str.cat(nomes.dominio).str.lower()"
      ],
      "execution_count": 332,
      "outputs": []
    },
    {
      "cell_type": "code",
      "metadata": {
        "colab": {
          "base_uri": "https://localhost:8080/",
          "height": 0
        },
        "id": "891h8-D3ESJl",
        "outputId": "857e2209-0e24-4f10-ea17-e62646212f6a"
      },
      "source": [
        "nomes.sample(5)"
      ],
      "execution_count": 333,
      "outputs": [
        {
          "output_type": "execute_result",
          "data": {
            "text/html": [
              "<div>\n",
              "<style scoped>\n",
              "    .dataframe tbody tr th:only-of-type {\n",
              "        vertical-align: middle;\n",
              "    }\n",
              "\n",
              "    .dataframe tbody tr th {\n",
              "        vertical-align: top;\n",
              "    }\n",
              "\n",
              "    .dataframe thead th {\n",
              "        text-align: right;\n",
              "    }\n",
              "</style>\n",
              "<table border=\"1\" class=\"dataframe\">\n",
              "  <thead>\n",
              "    <tr style=\"text-align: right;\">\n",
              "      <th></th>\n",
              "      <th>nome</th>\n",
              "      <th>id_aluno</th>\n",
              "      <th>dominio</th>\n",
              "      <th>email</th>\n",
              "    </tr>\n",
              "  </thead>\n",
              "  <tbody>\n",
              "    <tr>\n",
              "      <th>114</th>\n",
              "      <td>ARTHUR</td>\n",
              "      <td>320</td>\n",
              "      <td>@dominioemail.com.br</td>\n",
              "      <td>arthur@dominioemail.com.br</td>\n",
              "    </tr>\n",
              "    <tr>\n",
              "      <th>57</th>\n",
              "      <td>DAIANE</td>\n",
              "      <td>303</td>\n",
              "      <td>@servicodoemail.com</td>\n",
              "      <td>daiane@servicodoemail.com</td>\n",
              "    </tr>\n",
              "    <tr>\n",
              "      <th>85</th>\n",
              "      <td>HELENA</td>\n",
              "      <td>221</td>\n",
              "      <td>@dominioemail.com.br</td>\n",
              "      <td>helena@dominioemail.com.br</td>\n",
              "    </tr>\n",
              "    <tr>\n",
              "      <th>183</th>\n",
              "      <td>IRACI</td>\n",
              "      <td>8</td>\n",
              "      <td>@dominioemail.com.br</td>\n",
              "      <td>iraci@dominioemail.com.br</td>\n",
              "    </tr>\n",
              "    <tr>\n",
              "      <th>189</th>\n",
              "      <td>DALVA</td>\n",
              "      <td>137</td>\n",
              "      <td>@dominioemail.com.br</td>\n",
              "      <td>dalva@dominioemail.com.br</td>\n",
              "    </tr>\n",
              "  </tbody>\n",
              "</table>\n",
              "</div>"
            ],
            "text/plain": [
              "       nome  id_aluno               dominio                       email\n",
              "114  ARTHUR       320  @dominioemail.com.br  arthur@dominioemail.com.br\n",
              "57   DAIANE       303   @servicodoemail.com   daiane@servicodoemail.com\n",
              "85   HELENA       221  @dominioemail.com.br  helena@dominioemail.com.br\n",
              "183   IRACI         8  @dominioemail.com.br   iraci@dominioemail.com.br\n",
              "189   DALVA       137  @dominioemail.com.br   dalva@dominioemail.com.br"
            ]
          },
          "metadata": {
            "tags": []
          },
          "execution_count": 333
        }
      ]
    },
    {
      "cell_type": "code",
      "metadata": {
        "id": "dj1AZm4bEUC2"
      },
      "source": [
        ""
      ],
      "execution_count": 333,
      "outputs": []
    },
    {
      "cell_type": "code",
      "metadata": {
        "id": "lqYFtu5WF4se"
      },
      "source": [
        ""
      ],
      "execution_count": 333,
      "outputs": []
    },
    {
      "cell_type": "markdown",
      "metadata": {
        "id": "ioWSr3FXF5ae"
      },
      "source": [
        "# CRIANDO A TABELA CURSOS"
      ]
    },
    {
      "cell_type": "code",
      "metadata": {
        "colab": {
          "base_uri": "https://localhost:8080/"
        },
        "id": "Lw-Bj_9qF8P_",
        "outputId": "b713f612-efd6-4630-a652-14291696d058"
      },
      "source": [
        "!pip3 install html5lib\r\n",
        "!pip3 install lxml"
      ],
      "execution_count": 334,
      "outputs": [
        {
          "output_type": "stream",
          "text": [
            "Requirement already satisfied: html5lib in /usr/local/lib/python3.6/dist-packages (1.0.1)\n",
            "Requirement already satisfied: six>=1.9 in /usr/local/lib/python3.6/dist-packages (from html5lib) (1.15.0)\n",
            "Requirement already satisfied: webencodings in /usr/local/lib/python3.6/dist-packages (from html5lib) (0.5.1)\n",
            "Requirement already satisfied: lxml in /usr/local/lib/python3.6/dist-packages (4.2.6)\n"
          ],
          "name": "stdout"
        }
      ]
    },
    {
      "cell_type": "code",
      "metadata": {
        "id": "evESFuTjGie-"
      },
      "source": [
        "import html5lib"
      ],
      "execution_count": 335,
      "outputs": []
    },
    {
      "cell_type": "code",
      "metadata": {
        "id": "3Q8E8GtRHO47"
      },
      "source": [
        "url = 'http://tabela-cursos.herokuapp.com/index.html'\r\n",
        "\r\n",
        "cursos = pd.read_html(url)"
      ],
      "execution_count": 336,
      "outputs": []
    },
    {
      "cell_type": "code",
      "metadata": {
        "colab": {
          "base_uri": "https://localhost:8080/"
        },
        "id": "PdaoUGtJHahK",
        "outputId": "510ededc-f441-45b0-b2b8-1d3be64ac7e0"
      },
      "source": [
        "cursos"
      ],
      "execution_count": 337,
      "outputs": [
        {
          "output_type": "execute_result",
          "data": {
            "text/plain": [
              "[                          Nome do curso\n",
              " 0                 Lógica de programação\n",
              " 1                         Java para Web\n",
              " 2                           C# para Web\n",
              " 3                         Ruby on Rails\n",
              " 4                      Cursos de Python\n",
              " 5                         PHP com MySql\n",
              " 6                         .NET para web\n",
              " 7            Novas integrações com Java\n",
              " 8                          TDD com Java\n",
              " 9                   Código limpo com C#\n",
              " 10  Preparatório para certificação Java\n",
              " 11                      Hardware básico\n",
              " 12                Persistência com .NET\n",
              " 13                  Desenvolvendo jogos\n",
              " 14                     Análise de dados\n",
              " 15                   Estatística básica\n",
              " 16                  Internet das coisas\n",
              " 17                Programação funcional\n",
              " 18                Boas práticas em Java\n",
              " 19          Orientação objetos com Java]"
            ]
          },
          "metadata": {
            "tags": []
          },
          "execution_count": 337
        }
      ]
    },
    {
      "cell_type": "code",
      "metadata": {
        "colab": {
          "base_uri": "https://localhost:8080/"
        },
        "id": "q0tgmSVkHu5B",
        "outputId": "ae4e622e-f6ea-48ae-e0c5-97ae77a5b581"
      },
      "source": [
        "type(cursos)"
      ],
      "execution_count": 338,
      "outputs": [
        {
          "output_type": "execute_result",
          "data": {
            "text/plain": [
              "list"
            ]
          },
          "metadata": {
            "tags": []
          },
          "execution_count": 338
        }
      ]
    },
    {
      "cell_type": "code",
      "metadata": {
        "id": "TDU-pAs-Hx8x"
      },
      "source": [
        "cursos = cursos[0]"
      ],
      "execution_count": 339,
      "outputs": []
    },
    {
      "cell_type": "code",
      "metadata": {
        "colab": {
          "base_uri": "https://localhost:8080/"
        },
        "id": "mMWO5R4_H1AR",
        "outputId": "e84b9884-41f2-4112-f239-b4aebf5bba8f"
      },
      "source": [
        "type(cursos)"
      ],
      "execution_count": 340,
      "outputs": [
        {
          "output_type": "execute_result",
          "data": {
            "text/plain": [
              "pandas.core.frame.DataFrame"
            ]
          },
          "metadata": {
            "tags": []
          },
          "execution_count": 340
        }
      ]
    },
    {
      "cell_type": "code",
      "metadata": {
        "colab": {
          "base_uri": "https://localhost:8080/",
          "height": 204
        },
        "id": "90l0Di-ZH7rg",
        "outputId": "eebd3250-0f8b-4a4f-b5e1-02fc17ba3170"
      },
      "source": [
        "cursos.head()"
      ],
      "execution_count": 341,
      "outputs": [
        {
          "output_type": "execute_result",
          "data": {
            "text/html": [
              "<div>\n",
              "<style scoped>\n",
              "    .dataframe tbody tr th:only-of-type {\n",
              "        vertical-align: middle;\n",
              "    }\n",
              "\n",
              "    .dataframe tbody tr th {\n",
              "        vertical-align: top;\n",
              "    }\n",
              "\n",
              "    .dataframe thead th {\n",
              "        text-align: right;\n",
              "    }\n",
              "</style>\n",
              "<table border=\"1\" class=\"dataframe\">\n",
              "  <thead>\n",
              "    <tr style=\"text-align: right;\">\n",
              "      <th></th>\n",
              "      <th>Nome do curso</th>\n",
              "    </tr>\n",
              "  </thead>\n",
              "  <tbody>\n",
              "    <tr>\n",
              "      <th>0</th>\n",
              "      <td>Lógica de programação</td>\n",
              "    </tr>\n",
              "    <tr>\n",
              "      <th>1</th>\n",
              "      <td>Java para Web</td>\n",
              "    </tr>\n",
              "    <tr>\n",
              "      <th>2</th>\n",
              "      <td>C# para Web</td>\n",
              "    </tr>\n",
              "    <tr>\n",
              "      <th>3</th>\n",
              "      <td>Ruby on Rails</td>\n",
              "    </tr>\n",
              "    <tr>\n",
              "      <th>4</th>\n",
              "      <td>Cursos de Python</td>\n",
              "    </tr>\n",
              "  </tbody>\n",
              "</table>\n",
              "</div>"
            ],
            "text/plain": [
              "           Nome do curso\n",
              "0  Lógica de programação\n",
              "1          Java para Web\n",
              "2            C# para Web\n",
              "3          Ruby on Rails\n",
              "4       Cursos de Python"
            ]
          },
          "metadata": {
            "tags": []
          },
          "execution_count": 341
        }
      ]
    },
    {
      "cell_type": "code",
      "metadata": {
        "id": "ORFIob_xH-Io"
      },
      "source": [
        ""
      ],
      "execution_count": 341,
      "outputs": []
    },
    {
      "cell_type": "code",
      "metadata": {
        "id": "5Yue2JUBIdhM"
      },
      "source": [
        ""
      ],
      "execution_count": 341,
      "outputs": []
    },
    {
      "cell_type": "markdown",
      "metadata": {
        "id": "u67WKLF7Ibed"
      },
      "source": [
        "# ALTERANDO O INDEX"
      ]
    },
    {
      "cell_type": "code",
      "metadata": {
        "colab": {
          "base_uri": "https://localhost:8080/",
          "height": 700
        },
        "id": "F2hvYc4MIcfs",
        "outputId": "37371632-07d9-494d-f9b3-b7ab0836de71"
      },
      "source": [
        "cursos.rename(columns = {'Nome do curso' : 'Nome_curso'})"
      ],
      "execution_count": 363,
      "outputs": [
        {
          "output_type": "execute_result",
          "data": {
            "text/html": [
              "<div>\n",
              "<style scoped>\n",
              "    .dataframe tbody tr th:only-of-type {\n",
              "        vertical-align: middle;\n",
              "    }\n",
              "\n",
              "    .dataframe tbody tr th {\n",
              "        vertical-align: top;\n",
              "    }\n",
              "\n",
              "    .dataframe thead th {\n",
              "        text-align: right;\n",
              "    }\n",
              "</style>\n",
              "<table border=\"1\" class=\"dataframe\">\n",
              "  <thead>\n",
              "    <tr style=\"text-align: right;\">\n",
              "      <th></th>\n",
              "      <th>Nome_curso</th>\n",
              "    </tr>\n",
              "    <tr>\n",
              "      <th>id</th>\n",
              "      <th></th>\n",
              "    </tr>\n",
              "  </thead>\n",
              "  <tbody>\n",
              "    <tr>\n",
              "      <th>1</th>\n",
              "      <td>Lógica de programação</td>\n",
              "    </tr>\n",
              "    <tr>\n",
              "      <th>2</th>\n",
              "      <td>Java para Web</td>\n",
              "    </tr>\n",
              "    <tr>\n",
              "      <th>3</th>\n",
              "      <td>C# para Web</td>\n",
              "    </tr>\n",
              "    <tr>\n",
              "      <th>4</th>\n",
              "      <td>Ruby on Rails</td>\n",
              "    </tr>\n",
              "    <tr>\n",
              "      <th>5</th>\n",
              "      <td>Cursos de Python</td>\n",
              "    </tr>\n",
              "    <tr>\n",
              "      <th>6</th>\n",
              "      <td>PHP com MySql</td>\n",
              "    </tr>\n",
              "    <tr>\n",
              "      <th>7</th>\n",
              "      <td>.NET para web</td>\n",
              "    </tr>\n",
              "    <tr>\n",
              "      <th>8</th>\n",
              "      <td>Novas integrações com Java</td>\n",
              "    </tr>\n",
              "    <tr>\n",
              "      <th>9</th>\n",
              "      <td>TDD com Java</td>\n",
              "    </tr>\n",
              "    <tr>\n",
              "      <th>10</th>\n",
              "      <td>Código limpo com C#</td>\n",
              "    </tr>\n",
              "    <tr>\n",
              "      <th>11</th>\n",
              "      <td>Preparatório para certificação Java</td>\n",
              "    </tr>\n",
              "    <tr>\n",
              "      <th>12</th>\n",
              "      <td>Hardware básico</td>\n",
              "    </tr>\n",
              "    <tr>\n",
              "      <th>13</th>\n",
              "      <td>Persistência com .NET</td>\n",
              "    </tr>\n",
              "    <tr>\n",
              "      <th>14</th>\n",
              "      <td>Desenvolvendo jogos</td>\n",
              "    </tr>\n",
              "    <tr>\n",
              "      <th>15</th>\n",
              "      <td>Análise de dados</td>\n",
              "    </tr>\n",
              "    <tr>\n",
              "      <th>16</th>\n",
              "      <td>Estatística básica</td>\n",
              "    </tr>\n",
              "    <tr>\n",
              "      <th>17</th>\n",
              "      <td>Internet das coisas</td>\n",
              "    </tr>\n",
              "    <tr>\n",
              "      <th>18</th>\n",
              "      <td>Programação funcional</td>\n",
              "    </tr>\n",
              "    <tr>\n",
              "      <th>19</th>\n",
              "      <td>Boas práticas em Java</td>\n",
              "    </tr>\n",
              "    <tr>\n",
              "      <th>20</th>\n",
              "      <td>Orientação objetos com Java</td>\n",
              "    </tr>\n",
              "  </tbody>\n",
              "</table>\n",
              "</div>"
            ],
            "text/plain": [
              "                             Nome_curso\n",
              "id                                     \n",
              "1                 Lógica de programação\n",
              "2                         Java para Web\n",
              "3                           C# para Web\n",
              "4                         Ruby on Rails\n",
              "5                      Cursos de Python\n",
              "6                         PHP com MySql\n",
              "7                         .NET para web\n",
              "8            Novas integrações com Java\n",
              "9                          TDD com Java\n",
              "10                  Código limpo com C#\n",
              "11  Preparatório para certificação Java\n",
              "12                      Hardware básico\n",
              "13                Persistência com .NET\n",
              "14                  Desenvolvendo jogos\n",
              "15                     Análise de dados\n",
              "16                   Estatística básica\n",
              "17                  Internet das coisas\n",
              "18                Programação funcional\n",
              "19                Boas práticas em Java\n",
              "20          Orientação objetos com Java"
            ]
          },
          "metadata": {
            "tags": []
          },
          "execution_count": 363
        }
      ]
    },
    {
      "cell_type": "code",
      "metadata": {
        "colab": {
          "base_uri": "https://localhost:8080/",
          "height": 235
        },
        "id": "9_paSlbyIxxW",
        "outputId": "0ea09418-7550-4b83-9cbd-66be135f17cf"
      },
      "source": [
        "cursos.head(5)"
      ],
      "execution_count": 364,
      "outputs": [
        {
          "output_type": "execute_result",
          "data": {
            "text/html": [
              "<div>\n",
              "<style scoped>\n",
              "    .dataframe tbody tr th:only-of-type {\n",
              "        vertical-align: middle;\n",
              "    }\n",
              "\n",
              "    .dataframe tbody tr th {\n",
              "        vertical-align: top;\n",
              "    }\n",
              "\n",
              "    .dataframe thead th {\n",
              "        text-align: right;\n",
              "    }\n",
              "</style>\n",
              "<table border=\"1\" class=\"dataframe\">\n",
              "  <thead>\n",
              "    <tr style=\"text-align: right;\">\n",
              "      <th></th>\n",
              "      <th>Nome do curso</th>\n",
              "    </tr>\n",
              "    <tr>\n",
              "      <th>id</th>\n",
              "      <th></th>\n",
              "    </tr>\n",
              "  </thead>\n",
              "  <tbody>\n",
              "    <tr>\n",
              "      <th>1</th>\n",
              "      <td>Lógica de programação</td>\n",
              "    </tr>\n",
              "    <tr>\n",
              "      <th>2</th>\n",
              "      <td>Java para Web</td>\n",
              "    </tr>\n",
              "    <tr>\n",
              "      <th>3</th>\n",
              "      <td>C# para Web</td>\n",
              "    </tr>\n",
              "    <tr>\n",
              "      <th>4</th>\n",
              "      <td>Ruby on Rails</td>\n",
              "    </tr>\n",
              "    <tr>\n",
              "      <th>5</th>\n",
              "      <td>Cursos de Python</td>\n",
              "    </tr>\n",
              "  </tbody>\n",
              "</table>\n",
              "</div>"
            ],
            "text/plain": [
              "            Nome do curso\n",
              "id                       \n",
              "1   Lógica de programação\n",
              "2           Java para Web\n",
              "3             C# para Web\n",
              "4           Ruby on Rails\n",
              "5        Cursos de Python"
            ]
          },
          "metadata": {
            "tags": []
          },
          "execution_count": 364
        }
      ]
    },
    {
      "cell_type": "code",
      "metadata": {
        "id": "EpfMpL-EI3g0"
      },
      "source": [
        "cursos['id'] = cursos.index + 1"
      ],
      "execution_count": 344,
      "outputs": []
    },
    {
      "cell_type": "code",
      "metadata": {
        "colab": {
          "base_uri": "https://localhost:8080/",
          "height": 204
        },
        "id": "aQzYe3NcJgXi",
        "outputId": "53a6758d-a9a6-4db9-d786-17138c4fc862"
      },
      "source": [
        "cursos.head()"
      ],
      "execution_count": 345,
      "outputs": [
        {
          "output_type": "execute_result",
          "data": {
            "text/html": [
              "<div>\n",
              "<style scoped>\n",
              "    .dataframe tbody tr th:only-of-type {\n",
              "        vertical-align: middle;\n",
              "    }\n",
              "\n",
              "    .dataframe tbody tr th {\n",
              "        vertical-align: top;\n",
              "    }\n",
              "\n",
              "    .dataframe thead th {\n",
              "        text-align: right;\n",
              "    }\n",
              "</style>\n",
              "<table border=\"1\" class=\"dataframe\">\n",
              "  <thead>\n",
              "    <tr style=\"text-align: right;\">\n",
              "      <th></th>\n",
              "      <th>Nome do curso</th>\n",
              "      <th>id</th>\n",
              "    </tr>\n",
              "  </thead>\n",
              "  <tbody>\n",
              "    <tr>\n",
              "      <th>0</th>\n",
              "      <td>Lógica de programação</td>\n",
              "      <td>1</td>\n",
              "    </tr>\n",
              "    <tr>\n",
              "      <th>1</th>\n",
              "      <td>Java para Web</td>\n",
              "      <td>2</td>\n",
              "    </tr>\n",
              "    <tr>\n",
              "      <th>2</th>\n",
              "      <td>C# para Web</td>\n",
              "      <td>3</td>\n",
              "    </tr>\n",
              "    <tr>\n",
              "      <th>3</th>\n",
              "      <td>Ruby on Rails</td>\n",
              "      <td>4</td>\n",
              "    </tr>\n",
              "    <tr>\n",
              "      <th>4</th>\n",
              "      <td>Cursos de Python</td>\n",
              "      <td>5</td>\n",
              "    </tr>\n",
              "  </tbody>\n",
              "</table>\n",
              "</div>"
            ],
            "text/plain": [
              "           Nome do curso  id\n",
              "0  Lógica de programação   1\n",
              "1          Java para Web   2\n",
              "2            C# para Web   3\n",
              "3          Ruby on Rails   4\n",
              "4       Cursos de Python   5"
            ]
          },
          "metadata": {
            "tags": []
          },
          "execution_count": 345
        }
      ]
    },
    {
      "cell_type": "code",
      "metadata": {
        "id": "yWsxCLdnJjma"
      },
      "source": [
        "cursos = cursos.set_index('id')"
      ],
      "execution_count": 346,
      "outputs": []
    },
    {
      "cell_type": "code",
      "metadata": {
        "colab": {
          "base_uri": "https://localhost:8080/",
          "height": 235
        },
        "id": "FJNT08w_JwIS",
        "outputId": "b02f83a7-4bd1-4bb2-ef32-1742efd12a0d"
      },
      "source": [
        "cursos.head()"
      ],
      "execution_count": 347,
      "outputs": [
        {
          "output_type": "execute_result",
          "data": {
            "text/html": [
              "<div>\n",
              "<style scoped>\n",
              "    .dataframe tbody tr th:only-of-type {\n",
              "        vertical-align: middle;\n",
              "    }\n",
              "\n",
              "    .dataframe tbody tr th {\n",
              "        vertical-align: top;\n",
              "    }\n",
              "\n",
              "    .dataframe thead th {\n",
              "        text-align: right;\n",
              "    }\n",
              "</style>\n",
              "<table border=\"1\" class=\"dataframe\">\n",
              "  <thead>\n",
              "    <tr style=\"text-align: right;\">\n",
              "      <th></th>\n",
              "      <th>Nome do curso</th>\n",
              "    </tr>\n",
              "    <tr>\n",
              "      <th>id</th>\n",
              "      <th></th>\n",
              "    </tr>\n",
              "  </thead>\n",
              "  <tbody>\n",
              "    <tr>\n",
              "      <th>1</th>\n",
              "      <td>Lógica de programação</td>\n",
              "    </tr>\n",
              "    <tr>\n",
              "      <th>2</th>\n",
              "      <td>Java para Web</td>\n",
              "    </tr>\n",
              "    <tr>\n",
              "      <th>3</th>\n",
              "      <td>C# para Web</td>\n",
              "    </tr>\n",
              "    <tr>\n",
              "      <th>4</th>\n",
              "      <td>Ruby on Rails</td>\n",
              "    </tr>\n",
              "    <tr>\n",
              "      <th>5</th>\n",
              "      <td>Cursos de Python</td>\n",
              "    </tr>\n",
              "  </tbody>\n",
              "</table>\n",
              "</div>"
            ],
            "text/plain": [
              "            Nome do curso\n",
              "id                       \n",
              "1   Lógica de programação\n",
              "2           Java para Web\n",
              "3             C# para Web\n",
              "4           Ruby on Rails\n",
              "5        Cursos de Python"
            ]
          },
          "metadata": {
            "tags": []
          },
          "execution_count": 347
        }
      ]
    },
    {
      "cell_type": "code",
      "metadata": {
        "colab": {
          "base_uri": "https://localhost:8080/",
          "height": 204
        },
        "id": "COyMkbAnJx5y",
        "outputId": "7fd1fc17-c83f-4c98-d7f0-9f5e0757f980"
      },
      "source": [
        "nomes.sample(5)"
      ],
      "execution_count": 348,
      "outputs": [
        {
          "output_type": "execute_result",
          "data": {
            "text/html": [
              "<div>\n",
              "<style scoped>\n",
              "    .dataframe tbody tr th:only-of-type {\n",
              "        vertical-align: middle;\n",
              "    }\n",
              "\n",
              "    .dataframe tbody tr th {\n",
              "        vertical-align: top;\n",
              "    }\n",
              "\n",
              "    .dataframe thead th {\n",
              "        text-align: right;\n",
              "    }\n",
              "</style>\n",
              "<table border=\"1\" class=\"dataframe\">\n",
              "  <thead>\n",
              "    <tr style=\"text-align: right;\">\n",
              "      <th></th>\n",
              "      <th>nome</th>\n",
              "      <th>id_aluno</th>\n",
              "      <th>dominio</th>\n",
              "      <th>email</th>\n",
              "    </tr>\n",
              "  </thead>\n",
              "  <tbody>\n",
              "    <tr>\n",
              "      <th>59</th>\n",
              "      <td>ISABEL</td>\n",
              "      <td>83</td>\n",
              "      <td>@dominioemail.com.br</td>\n",
              "      <td>isabel@dominioemail.com.br</td>\n",
              "    </tr>\n",
              "    <tr>\n",
              "      <th>172</th>\n",
              "      <td>REBECA</td>\n",
              "      <td>165</td>\n",
              "      <td>@servicodoemail.com</td>\n",
              "      <td>rebeca@servicodoemail.com</td>\n",
              "    </tr>\n",
              "    <tr>\n",
              "      <th>130</th>\n",
              "      <td>JUNIOR</td>\n",
              "      <td>184</td>\n",
              "      <td>@dominioemail.com.br</td>\n",
              "      <td>junior@dominioemail.com.br</td>\n",
              "    </tr>\n",
              "    <tr>\n",
              "      <th>70</th>\n",
              "      <td>JOAQUIM</td>\n",
              "      <td>248</td>\n",
              "      <td>@servicodoemail.com</td>\n",
              "      <td>joaquim@servicodoemail.com</td>\n",
              "    </tr>\n",
              "    <tr>\n",
              "      <th>171</th>\n",
              "      <td>VALDEMIR</td>\n",
              "      <td>3</td>\n",
              "      <td>@dominioemail.com.br</td>\n",
              "      <td>valdemir@dominioemail.com.br</td>\n",
              "    </tr>\n",
              "  </tbody>\n",
              "</table>\n",
              "</div>"
            ],
            "text/plain": [
              "         nome  id_aluno               dominio                         email\n",
              "59     ISABEL        83  @dominioemail.com.br    isabel@dominioemail.com.br\n",
              "172    REBECA       165   @servicodoemail.com     rebeca@servicodoemail.com\n",
              "130    JUNIOR       184  @dominioemail.com.br    junior@dominioemail.com.br\n",
              "70    JOAQUIM       248   @servicodoemail.com    joaquim@servicodoemail.com\n",
              "171  VALDEMIR         3  @dominioemail.com.br  valdemir@dominioemail.com.br"
            ]
          },
          "metadata": {
            "tags": []
          },
          "execution_count": 348
        }
      ]
    },
    {
      "cell_type": "code",
      "metadata": {
        "id": "hpE9NBBdK0Bf"
      },
      "source": [
        ""
      ],
      "execution_count": 348,
      "outputs": []
    },
    {
      "cell_type": "code",
      "metadata": {
        "id": "iPmJMauiK7rd"
      },
      "source": [
        ""
      ],
      "execution_count": 348,
      "outputs": []
    },
    {
      "cell_type": "markdown",
      "metadata": {
        "id": "UMAVkEKSK75E"
      },
      "source": [
        "# MATRICULANDO OS ALUNOS NOS CURSOS"
      ]
    },
    {
      "cell_type": "code",
      "metadata": {
        "colab": {
          "base_uri": "https://localhost:8080/",
          "height": 204
        },
        "id": "-DKGVKyLLBwl",
        "outputId": "e8695a15-3301-4798-807c-8f4a83ba8d2e"
      },
      "source": [
        "nomes.sample(5)"
      ],
      "execution_count": 349,
      "outputs": [
        {
          "output_type": "execute_result",
          "data": {
            "text/html": [
              "<div>\n",
              "<style scoped>\n",
              "    .dataframe tbody tr th:only-of-type {\n",
              "        vertical-align: middle;\n",
              "    }\n",
              "\n",
              "    .dataframe tbody tr th {\n",
              "        vertical-align: top;\n",
              "    }\n",
              "\n",
              "    .dataframe thead th {\n",
              "        text-align: right;\n",
              "    }\n",
              "</style>\n",
              "<table border=\"1\" class=\"dataframe\">\n",
              "  <thead>\n",
              "    <tr style=\"text-align: right;\">\n",
              "      <th></th>\n",
              "      <th>nome</th>\n",
              "      <th>id_aluno</th>\n",
              "      <th>dominio</th>\n",
              "      <th>email</th>\n",
              "    </tr>\n",
              "  </thead>\n",
              "  <tbody>\n",
              "    <tr>\n",
              "      <th>189</th>\n",
              "      <td>DALVA</td>\n",
              "      <td>137</td>\n",
              "      <td>@dominioemail.com.br</td>\n",
              "      <td>dalva@dominioemail.com.br</td>\n",
              "    </tr>\n",
              "    <tr>\n",
              "      <th>144</th>\n",
              "      <td>VINICIOS</td>\n",
              "      <td>147</td>\n",
              "      <td>@servicodoemail.com</td>\n",
              "      <td>vinicios@servicodoemail.com</td>\n",
              "    </tr>\n",
              "    <tr>\n",
              "      <th>69</th>\n",
              "      <td>TEREZA</td>\n",
              "      <td>151</td>\n",
              "      <td>@servicodoemail.com</td>\n",
              "      <td>tereza@servicodoemail.com</td>\n",
              "    </tr>\n",
              "    <tr>\n",
              "      <th>105</th>\n",
              "      <td>PABLO</td>\n",
              "      <td>141</td>\n",
              "      <td>@dominioemail.com.br</td>\n",
              "      <td>pablo@dominioemail.com.br</td>\n",
              "    </tr>\n",
              "    <tr>\n",
              "      <th>109</th>\n",
              "      <td>CELSO</td>\n",
              "      <td>266</td>\n",
              "      <td>@servicodoemail.com</td>\n",
              "      <td>celso@servicodoemail.com</td>\n",
              "    </tr>\n",
              "  </tbody>\n",
              "</table>\n",
              "</div>"
            ],
            "text/plain": [
              "         nome  id_aluno               dominio                        email\n",
              "189     DALVA       137  @dominioemail.com.br    dalva@dominioemail.com.br\n",
              "144  VINICIOS       147   @servicodoemail.com  vinicios@servicodoemail.com\n",
              "69     TEREZA       151   @servicodoemail.com    tereza@servicodoemail.com\n",
              "105     PABLO       141  @dominioemail.com.br    pablo@dominioemail.com.br\n",
              "109     CELSO       266   @servicodoemail.com     celso@servicodoemail.com"
            ]
          },
          "metadata": {
            "tags": []
          },
          "execution_count": 349
        }
      ]
    },
    {
      "cell_type": "code",
      "metadata": {
        "id": "DX7xG2efLFrs"
      },
      "source": [
        "nomes['matriculas'] = np.ceil(np.random.exponential(size=total_alunos) * 1.5).astype(int) #A funçao ceil arredonda pra cima. O nº random mutiplica por 1.5 para aumentar o num de cursos. O converte para int"
      ],
      "execution_count": 350,
      "outputs": []
    },
    {
      "cell_type": "code",
      "metadata": {
        "colab": {
          "base_uri": "https://localhost:8080/",
          "height": 204
        },
        "id": "m0QFCe0GLmjj",
        "outputId": "195ca77f-3f4b-4670-f778-add80fbd5ffe"
      },
      "source": [
        "nomes.sample(5)"
      ],
      "execution_count": 351,
      "outputs": [
        {
          "output_type": "execute_result",
          "data": {
            "text/html": [
              "<div>\n",
              "<style scoped>\n",
              "    .dataframe tbody tr th:only-of-type {\n",
              "        vertical-align: middle;\n",
              "    }\n",
              "\n",
              "    .dataframe tbody tr th {\n",
              "        vertical-align: top;\n",
              "    }\n",
              "\n",
              "    .dataframe thead th {\n",
              "        text-align: right;\n",
              "    }\n",
              "</style>\n",
              "<table border=\"1\" class=\"dataframe\">\n",
              "  <thead>\n",
              "    <tr style=\"text-align: right;\">\n",
              "      <th></th>\n",
              "      <th>nome</th>\n",
              "      <th>id_aluno</th>\n",
              "      <th>dominio</th>\n",
              "      <th>email</th>\n",
              "      <th>matriculas</th>\n",
              "    </tr>\n",
              "  </thead>\n",
              "  <tbody>\n",
              "    <tr>\n",
              "      <th>15</th>\n",
              "      <td>LETICIA</td>\n",
              "      <td>347</td>\n",
              "      <td>@dominioemail.com.br</td>\n",
              "      <td>leticia@dominioemail.com.br</td>\n",
              "      <td>2</td>\n",
              "    </tr>\n",
              "    <tr>\n",
              "      <th>157</th>\n",
              "      <td>JAIME</td>\n",
              "      <td>214</td>\n",
              "      <td>@servicodoemail.com</td>\n",
              "      <td>jaime@servicodoemail.com</td>\n",
              "      <td>1</td>\n",
              "    </tr>\n",
              "    <tr>\n",
              "      <th>36</th>\n",
              "      <td>ROBERTO</td>\n",
              "      <td>364</td>\n",
              "      <td>@dominioemail.com.br</td>\n",
              "      <td>roberto@dominioemail.com.br</td>\n",
              "      <td>2</td>\n",
              "    </tr>\n",
              "    <tr>\n",
              "      <th>91</th>\n",
              "      <td>CELIA</td>\n",
              "      <td>367</td>\n",
              "      <td>@dominioemail.com.br</td>\n",
              "      <td>celia@dominioemail.com.br</td>\n",
              "      <td>2</td>\n",
              "    </tr>\n",
              "    <tr>\n",
              "      <th>183</th>\n",
              "      <td>MARLON</td>\n",
              "      <td>74</td>\n",
              "      <td>@servicodoemail.com</td>\n",
              "      <td>marlon@servicodoemail.com</td>\n",
              "      <td>1</td>\n",
              "    </tr>\n",
              "  </tbody>\n",
              "</table>\n",
              "</div>"
            ],
            "text/plain": [
              "        nome  id_aluno  ...                        email matriculas\n",
              "15   LETICIA       347  ...  leticia@dominioemail.com.br          2\n",
              "157    JAIME       214  ...     jaime@servicodoemail.com          1\n",
              "36   ROBERTO       364  ...  roberto@dominioemail.com.br          2\n",
              "91     CELIA       367  ...    celia@dominioemail.com.br          2\n",
              "183   MARLON        74  ...    marlon@servicodoemail.com          1\n",
              "\n",
              "[5 rows x 5 columns]"
            ]
          },
          "metadata": {
            "tags": []
          },
          "execution_count": 351
        }
      ]
    },
    {
      "cell_type": "code",
      "metadata": {
        "colab": {
          "base_uri": "https://localhost:8080/"
        },
        "id": "9OQZtfarLuhC",
        "outputId": "43a19bb4-b978-4052-a537-25d19e40fc75"
      },
      "source": [
        "nomes.matriculas.describe() #dados estatistico do frame"
      ],
      "execution_count": 352,
      "outputs": [
        {
          "output_type": "execute_result",
          "data": {
            "text/plain": [
              "count    400.000000\n",
              "mean       2.110000\n",
              "std        1.560123\n",
              "min        1.000000\n",
              "25%        1.000000\n",
              "50%        2.000000\n",
              "75%        3.000000\n",
              "max        9.000000\n",
              "Name: matriculas, dtype: float64"
            ]
          },
          "metadata": {
            "tags": []
          },
          "execution_count": 352
        }
      ]
    },
    {
      "cell_type": "code",
      "metadata": {
        "id": "-SUrZeMNMhWo"
      },
      "source": [
        "import seaborn as sns"
      ],
      "execution_count": 353,
      "outputs": []
    },
    {
      "cell_type": "code",
      "metadata": {
        "colab": {
          "base_uri": "https://localhost:8080/",
          "height": 350
        },
        "id": "sMonYOm1Mszn",
        "outputId": "02151292-b5a4-47dc-fa0c-03d405a84799"
      },
      "source": [
        "sns.distplot(nomes.matriculas)"
      ],
      "execution_count": 354,
      "outputs": [
        {
          "output_type": "stream",
          "text": [
            "/usr/local/lib/python3.6/dist-packages/seaborn/distributions.py:2551: FutureWarning: `distplot` is a deprecated function and will be removed in a future version. Please adapt your code to use either `displot` (a figure-level function with similar flexibility) or `histplot` (an axes-level function for histograms).\n",
            "  warnings.warn(msg, FutureWarning)\n"
          ],
          "name": "stderr"
        },
        {
          "output_type": "execute_result",
          "data": {
            "text/plain": [
              "<matplotlib.axes._subplots.AxesSubplot at 0x7f4ba66eb710>"
            ]
          },
          "metadata": {
            "tags": []
          },
          "execution_count": 354
        },
        {
          "output_type": "display_data",
          "data": {
            "image/png": "[encoded data removed]",
            "text/plain": [
              "<Figure size 432x288 with 1 Axes>"
            ]
          },
          "metadata": {
            "tags": [],
            "needs_background": "light"
          }
        }
      ]
    },
    {
      "cell_type": "code",
      "metadata": {
        "colab": {
          "base_uri": "https://localhost:8080/"
        },
        "id": "QomOGXvlMzqf",
        "outputId": "26252605-67f0-48d4-fb70-bfe0fe4481b5"
      },
      "source": [
        "nomes.matriculas.value_counts()"
      ],
      "execution_count": 355,
      "outputs": [
        {
          "output_type": "execute_result",
          "data": {
            "text/plain": [
              "1    191\n",
              "2    104\n",
              "3     49\n",
              "4     25\n",
              "6     10\n",
              "5      8\n",
              "7      7\n",
              "8      5\n",
              "9      1\n",
              "Name: matriculas, dtype: int64"
            ]
          },
          "metadata": {
            "tags": []
          },
          "execution_count": 355
        }
      ]
    },
    {
      "cell_type": "code",
      "metadata": {
        "colab": {
          "base_uri": "https://localhost:8080/",
          "height": 204
        },
        "id": "qGFyl4M1Ngb0",
        "outputId": "7adc8d72-15b1-4f57-bdf7-56e6cf4af7fb"
      },
      "source": [
        "nomes.sample(5)"
      ],
      "execution_count": 356,
      "outputs": [
        {
          "output_type": "execute_result",
          "data": {
            "text/html": [
              "<div>\n",
              "<style scoped>\n",
              "    .dataframe tbody tr th:only-of-type {\n",
              "        vertical-align: middle;\n",
              "    }\n",
              "\n",
              "    .dataframe tbody tr th {\n",
              "        vertical-align: top;\n",
              "    }\n",
              "\n",
              "    .dataframe thead th {\n",
              "        text-align: right;\n",
              "    }\n",
              "</style>\n",
              "<table border=\"1\" class=\"dataframe\">\n",
              "  <thead>\n",
              "    <tr style=\"text-align: right;\">\n",
              "      <th></th>\n",
              "      <th>nome</th>\n",
              "      <th>id_aluno</th>\n",
              "      <th>dominio</th>\n",
              "      <th>email</th>\n",
              "      <th>matriculas</th>\n",
              "    </tr>\n",
              "  </thead>\n",
              "  <tbody>\n",
              "    <tr>\n",
              "      <th>34</th>\n",
              "      <td>CRISTIANE</td>\n",
              "      <td>350</td>\n",
              "      <td>@dominioemail.com.br</td>\n",
              "      <td>cristiane@dominioemail.com.br</td>\n",
              "      <td>1</td>\n",
              "    </tr>\n",
              "    <tr>\n",
              "      <th>154</th>\n",
              "      <td>NICOLE</td>\n",
              "      <td>182</td>\n",
              "      <td>@dominioemail.com.br</td>\n",
              "      <td>nicole@dominioemail.com.br</td>\n",
              "      <td>7</td>\n",
              "    </tr>\n",
              "    <tr>\n",
              "      <th>191</th>\n",
              "      <td>TERESA</td>\n",
              "      <td>264</td>\n",
              "      <td>@dominioemail.com.br</td>\n",
              "      <td>teresa@dominioemail.com.br</td>\n",
              "      <td>3</td>\n",
              "    </tr>\n",
              "    <tr>\n",
              "      <th>132</th>\n",
              "      <td>GABRIELE</td>\n",
              "      <td>72</td>\n",
              "      <td>@dominioemail.com.br</td>\n",
              "      <td>gabriele@dominioemail.com.br</td>\n",
              "      <td>6</td>\n",
              "    </tr>\n",
              "    <tr>\n",
              "      <th>110</th>\n",
              "      <td>LUCIENE</td>\n",
              "      <td>22</td>\n",
              "      <td>@dominioemail.com.br</td>\n",
              "      <td>luciene@dominioemail.com.br</td>\n",
              "      <td>1</td>\n",
              "    </tr>\n",
              "  </tbody>\n",
              "</table>\n",
              "</div>"
            ],
            "text/plain": [
              "          nome  id_aluno  ...                          email matriculas\n",
              "34   CRISTIANE       350  ...  cristiane@dominioemail.com.br          1\n",
              "154     NICOLE       182  ...     nicole@dominioemail.com.br          7\n",
              "191     TERESA       264  ...     teresa@dominioemail.com.br          3\n",
              "132   GABRIELE        72  ...   gabriele@dominioemail.com.br          6\n",
              "110    LUCIENE        22  ...    luciene@dominioemail.com.br          1\n",
              "\n",
              "[5 rows x 5 columns]"
            ]
          },
          "metadata": {
            "tags": []
          },
          "execution_count": 356
        }
      ]
    },
    {
      "cell_type": "code",
      "metadata": {
        "id": "g2fP00MwN7hy"
      },
      "source": [
        ""
      ],
      "execution_count": 356,
      "outputs": []
    },
    {
      "cell_type": "code",
      "metadata": {
        "id": "m-ZFrSNbOKPR"
      },
      "source": [
        ""
      ],
      "execution_count": 356,
      "outputs": []
    },
    {
      "cell_type": "markdown",
      "metadata": {
        "id": "p-hhwh2UOKbQ"
      },
      "source": [
        "# SELECIONANDO CURSOS"
      ]
    },
    {
      "cell_type": "code",
      "metadata": {
        "colab": {
          "base_uri": "https://localhost:8080/",
          "height": 204
        },
        "id": "nxZP3FFUOMvy",
        "outputId": "c3ae92cd-d9b1-45bf-8d1b-74df3e433874"
      },
      "source": [
        "nomes.sample(5)"
      ],
      "execution_count": 357,
      "outputs": [
        {
          "output_type": "execute_result",
          "data": {
            "text/html": [
              "<div>\n",
              "<style scoped>\n",
              "    .dataframe tbody tr th:only-of-type {\n",
              "        vertical-align: middle;\n",
              "    }\n",
              "\n",
              "    .dataframe tbody tr th {\n",
              "        vertical-align: top;\n",
              "    }\n",
              "\n",
              "    .dataframe thead th {\n",
              "        text-align: right;\n",
              "    }\n",
              "</style>\n",
              "<table border=\"1\" class=\"dataframe\">\n",
              "  <thead>\n",
              "    <tr style=\"text-align: right;\">\n",
              "      <th></th>\n",
              "      <th>nome</th>\n",
              "      <th>id_aluno</th>\n",
              "      <th>dominio</th>\n",
              "      <th>email</th>\n",
              "      <th>matriculas</th>\n",
              "    </tr>\n",
              "  </thead>\n",
              "  <tbody>\n",
              "    <tr>\n",
              "      <th>13</th>\n",
              "      <td>BRUNA</td>\n",
              "      <td>34</td>\n",
              "      <td>@servicodoemail.com</td>\n",
              "      <td>bruna@servicodoemail.com</td>\n",
              "      <td>1</td>\n",
              "    </tr>\n",
              "    <tr>\n",
              "      <th>76</th>\n",
              "      <td>CRISTIANO</td>\n",
              "      <td>154</td>\n",
              "      <td>@servicodoemail.com</td>\n",
              "      <td>cristiano@servicodoemail.com</td>\n",
              "      <td>3</td>\n",
              "    </tr>\n",
              "    <tr>\n",
              "      <th>4</th>\n",
              "      <td>CARLOS</td>\n",
              "      <td>230</td>\n",
              "      <td>@servicodoemail.com</td>\n",
              "      <td>carlos@servicodoemail.com</td>\n",
              "      <td>1</td>\n",
              "    </tr>\n",
              "    <tr>\n",
              "      <th>11</th>\n",
              "      <td>GABRIEL</td>\n",
              "      <td>219</td>\n",
              "      <td>@servicodoemail.com</td>\n",
              "      <td>gabriel@servicodoemail.com</td>\n",
              "      <td>2</td>\n",
              "    </tr>\n",
              "    <tr>\n",
              "      <th>82</th>\n",
              "      <td>SOLANGE</td>\n",
              "      <td>7</td>\n",
              "      <td>@dominioemail.com.br</td>\n",
              "      <td>solange@dominioemail.com.br</td>\n",
              "      <td>2</td>\n",
              "    </tr>\n",
              "  </tbody>\n",
              "</table>\n",
              "</div>"
            ],
            "text/plain": [
              "         nome  id_aluno  ...                         email matriculas\n",
              "13      BRUNA        34  ...      bruna@servicodoemail.com          1\n",
              "76  CRISTIANO       154  ...  cristiano@servicodoemail.com          3\n",
              "4      CARLOS       230  ...     carlos@servicodoemail.com          1\n",
              "11    GABRIEL       219  ...    gabriel@servicodoemail.com          2\n",
              "82    SOLANGE         7  ...   solange@dominioemail.com.br          2\n",
              "\n",
              "[5 rows x 5 columns]"
            ]
          },
          "metadata": {
            "tags": []
          },
          "execution_count": 357
        }
      ]
    },
    {
      "cell_type": "code",
      "metadata": {
        "id": "GpTlhUS8OTuD"
      },
      "source": [
        "todas_matriculas = []\r\n",
        "x = np.random.rand(20) # calcula os 20 cursos\r\n",
        "prob = x / sum(x)\r\n"
      ],
      "execution_count": 358,
      "outputs": []
    },
    {
      "cell_type": "code",
      "metadata": {
        "id": "rYig6xxWEsJL"
      },
      "source": [
        "# busca no dataframe em cada linha\r\n",
        "\r\n",
        "for index, row in nomes.iterrows():\r\n",
        "  id = row.id_aluno\r\n",
        "  matriculas = row.matriculas\r\n",
        "  for i in range(matriculas):\r\n",
        "    mat = [id, np.random.choice(cursos.index, p = prob)]\r\n",
        "    todas_matriculas.append(mat)\r\n",
        "\r\n",
        "matriculas = pd.DataFrame(todas_matriculas, columns = ['id_aluno', 'id_curso'])"
      ],
      "execution_count": 359,
      "outputs": []
    },
    {
      "cell_type": "code",
      "metadata": {
        "colab": {
          "base_uri": "https://localhost:8080/",
          "height": 204
        },
        "id": "TvLIvamcFIEg",
        "outputId": "71c1aa7c-90be-444b-f402-885b09aacfe2"
      },
      "source": [
        "matriculas.head()"
      ],
      "execution_count": 360,
      "outputs": [
        {
          "output_type": "execute_result",
          "data": {
            "text/html": [
              "<div>\n",
              "<style scoped>\n",
              "    .dataframe tbody tr th:only-of-type {\n",
              "        vertical-align: middle;\n",
              "    }\n",
              "\n",
              "    .dataframe tbody tr th {\n",
              "        vertical-align: top;\n",
              "    }\n",
              "\n",
              "    .dataframe thead th {\n",
              "        text-align: right;\n",
              "    }\n",
              "</style>\n",
              "<table border=\"1\" class=\"dataframe\">\n",
              "  <thead>\n",
              "    <tr style=\"text-align: right;\">\n",
              "      <th></th>\n",
              "      <th>id_aluno</th>\n",
              "      <th>id_curso</th>\n",
              "    </tr>\n",
              "  </thead>\n",
              "  <tbody>\n",
              "    <tr>\n",
              "      <th>0</th>\n",
              "      <td>235</td>\n",
              "      <td>1</td>\n",
              "    </tr>\n",
              "    <tr>\n",
              "      <th>1</th>\n",
              "      <td>235</td>\n",
              "      <td>1</td>\n",
              "    </tr>\n",
              "    <tr>\n",
              "      <th>2</th>\n",
              "      <td>235</td>\n",
              "      <td>15</td>\n",
              "    </tr>\n",
              "    <tr>\n",
              "      <th>3</th>\n",
              "      <td>43</td>\n",
              "      <td>2</td>\n",
              "    </tr>\n",
              "    <tr>\n",
              "      <th>4</th>\n",
              "      <td>304</td>\n",
              "      <td>1</td>\n",
              "    </tr>\n",
              "  </tbody>\n",
              "</table>\n",
              "</div>"
            ],
            "text/plain": [
              "   id_aluno  id_curso\n",
              "0       235         1\n",
              "1       235         1\n",
              "2       235        15\n",
              "3        43         2\n",
              "4       304         1"
            ]
          },
          "metadata": {
            "tags": []
          },
          "execution_count": 360
        }
      ]
    },
    {
      "cell_type": "code",
      "metadata": {
        "colab": {
          "base_uri": "https://localhost:8080/",
          "height": 700
        },
        "id": "MT5fFCaHQvMV",
        "outputId": "82990504-7687-4331-d45e-11d43417a147"
      },
      "source": [
        "matriculas.groupby('id_curso').count().join(cursos['Nome do curso']).rename(columns={'id_aluno':'quantidade_de_alunos'})"
      ],
      "execution_count": 365,
      "outputs": [
        {
          "output_type": "execute_result",
          "data": {
            "text/html": [
              "<div>\n",
              "<style scoped>\n",
              "    .dataframe tbody tr th:only-of-type {\n",
              "        vertical-align: middle;\n",
              "    }\n",
              "\n",
              "    .dataframe tbody tr th {\n",
              "        vertical-align: top;\n",
              "    }\n",
              "\n",
              "    .dataframe thead th {\n",
              "        text-align: right;\n",
              "    }\n",
              "</style>\n",
              "<table border=\"1\" class=\"dataframe\">\n",
              "  <thead>\n",
              "    <tr style=\"text-align: right;\">\n",
              "      <th></th>\n",
              "      <th>quantidade_de_alunos</th>\n",
              "      <th>Nome do curso</th>\n",
              "    </tr>\n",
              "    <tr>\n",
              "      <th>id_curso</th>\n",
              "      <th></th>\n",
              "      <th></th>\n",
              "    </tr>\n",
              "  </thead>\n",
              "  <tbody>\n",
              "    <tr>\n",
              "      <th>1</th>\n",
              "      <td>94</td>\n",
              "      <td>Lógica de programação</td>\n",
              "    </tr>\n",
              "    <tr>\n",
              "      <th>2</th>\n",
              "      <td>65</td>\n",
              "      <td>Java para Web</td>\n",
              "    </tr>\n",
              "    <tr>\n",
              "      <th>3</th>\n",
              "      <td>57</td>\n",
              "      <td>C# para Web</td>\n",
              "    </tr>\n",
              "    <tr>\n",
              "      <th>4</th>\n",
              "      <td>51</td>\n",
              "      <td>Ruby on Rails</td>\n",
              "    </tr>\n",
              "    <tr>\n",
              "      <th>5</th>\n",
              "      <td>6</td>\n",
              "      <td>Cursos de Python</td>\n",
              "    </tr>\n",
              "    <tr>\n",
              "      <th>6</th>\n",
              "      <td>32</td>\n",
              "      <td>PHP com MySql</td>\n",
              "    </tr>\n",
              "    <tr>\n",
              "      <th>7</th>\n",
              "      <td>11</td>\n",
              "      <td>.NET para web</td>\n",
              "    </tr>\n",
              "    <tr>\n",
              "      <th>8</th>\n",
              "      <td>59</td>\n",
              "      <td>Novas integrações com Java</td>\n",
              "    </tr>\n",
              "    <tr>\n",
              "      <th>9</th>\n",
              "      <td>8</td>\n",
              "      <td>TDD com Java</td>\n",
              "    </tr>\n",
              "    <tr>\n",
              "      <th>10</th>\n",
              "      <td>48</td>\n",
              "      <td>Código limpo com C#</td>\n",
              "    </tr>\n",
              "    <tr>\n",
              "      <th>11</th>\n",
              "      <td>23</td>\n",
              "      <td>Preparatório para certificação Java</td>\n",
              "    </tr>\n",
              "    <tr>\n",
              "      <th>12</th>\n",
              "      <td>37</td>\n",
              "      <td>Hardware básico</td>\n",
              "    </tr>\n",
              "    <tr>\n",
              "      <th>13</th>\n",
              "      <td>8</td>\n",
              "      <td>Persistência com .NET</td>\n",
              "    </tr>\n",
              "    <tr>\n",
              "      <th>14</th>\n",
              "      <td>47</td>\n",
              "      <td>Desenvolvendo jogos</td>\n",
              "    </tr>\n",
              "    <tr>\n",
              "      <th>15</th>\n",
              "      <td>70</td>\n",
              "      <td>Análise de dados</td>\n",
              "    </tr>\n",
              "    <tr>\n",
              "      <th>16</th>\n",
              "      <td>21</td>\n",
              "      <td>Estatística básica</td>\n",
              "    </tr>\n",
              "    <tr>\n",
              "      <th>17</th>\n",
              "      <td>7</td>\n",
              "      <td>Internet das coisas</td>\n",
              "    </tr>\n",
              "    <tr>\n",
              "      <th>18</th>\n",
              "      <td>92</td>\n",
              "      <td>Programação funcional</td>\n",
              "    </tr>\n",
              "    <tr>\n",
              "      <th>19</th>\n",
              "      <td>45</td>\n",
              "      <td>Boas práticas em Java</td>\n",
              "    </tr>\n",
              "    <tr>\n",
              "      <th>20</th>\n",
              "      <td>63</td>\n",
              "      <td>Orientação objetos com Java</td>\n",
              "    </tr>\n",
              "  </tbody>\n",
              "</table>\n",
              "</div>"
            ],
            "text/plain": [
              "          quantidade_de_alunos                        Nome do curso\n",
              "id_curso                                                           \n",
              "1                           94                Lógica de programação\n",
              "2                           65                        Java para Web\n",
              "3                           57                          C# para Web\n",
              "4                           51                        Ruby on Rails\n",
              "5                            6                     Cursos de Python\n",
              "6                           32                        PHP com MySql\n",
              "7                           11                        .NET para web\n",
              "8                           59           Novas integrações com Java\n",
              "9                            8                         TDD com Java\n",
              "10                          48                  Código limpo com C#\n",
              "11                          23  Preparatório para certificação Java\n",
              "12                          37                      Hardware básico\n",
              "13                           8                Persistência com .NET\n",
              "14                          47                  Desenvolvendo jogos\n",
              "15                          70                     Análise de dados\n",
              "16                          21                   Estatística básica\n",
              "17                           7                  Internet das coisas\n",
              "18                          92                Programação funcional\n",
              "19                          45                Boas práticas em Java\n",
              "20                          63          Orientação objetos com Java"
            ]
          },
          "metadata": {
            "tags": []
          },
          "execution_count": 365
        }
      ]
    },
    {
      "cell_type": "code",
      "metadata": {
        "id": "h9X8DoXvRJIL"
      },
      "source": [
        "# os numeros do meio mostra a quantidade de pessoas matgriculadas no curso\r\n"
      ],
      "execution_count": 366,
      "outputs": []
    },
    {
      "cell_type": "code",
      "metadata": {
        "id": "iloIqU5pUsqo"
      },
      "source": [
        "#verificando as tabelas"
      ],
      "execution_count": null,
      "outputs": []
    },
    {
      "cell_type": "code",
      "metadata": {
        "id": "DhayvsSAU3Gn"
      },
      "source": [
        "nomes.sample(5)"
      ],
      "execution_count": null,
      "outputs": []
    },
    {
      "cell_type": "code",
      "metadata": {
        "id": "Jw3x0H3OU6zO"
      },
      "source": [
        "cursos.sample(5)"
      ],
      "execution_count": null,
      "outputs": []
    },
    {
      "cell_type": "code",
      "metadata": {
        "id": "ujXVwj_LU8pW"
      },
      "source": [
        "cursos.head()"
      ],
      "execution_count": null,
      "outputs": []
    },
    {
      "cell_type": "code",
      "metadata": {
        "id": "2P3bTXc2VBE-"
      },
      "source": [
        "matriculas.head()"
      ],
      "execution_count": null,
      "outputs": []
    },
    {
      "cell_type": "code",
      "metadata": {
        "id": "Qoqetu5QVbw3"
      },
      "source": [
        "# jgando o dataFrame em uma variavel:"
      ],
      "execution_count": null,
      "outputs": []
    },
    {
      "cell_type": "code",
      "metadata": {
        "id": "40Q3biW8VENV"
      },
      "source": [
        "matriculas_por_curso = matriculas.groupby('id_curso').count().join(cursos['curso']).rename(columns={'id_aluno':'quantidade_de_alunos'})"
      ],
      "execution_count": null,
      "outputs": []
    },
    {
      "cell_type": "code",
      "metadata": {
        "id": "Hhnp1jTpVRg9"
      },
      "source": [
        "matriculas_por_curso.head()"
      ],
      "execution_count": null,
      "outputs": []
    },
    {
      "cell_type": "code",
      "metadata": {
        "id": "iPR_FXN4VVB1"
      },
      "source": [
        ""
      ],
      "execution_count": null,
      "outputs": []
    },
    {
      "cell_type": "code",
      "metadata": {
        "id": "qHSHwBChlr4L"
      },
      "source": [
        ""
      ],
      "execution_count": null,
      "outputs": []
    },
    {
      "cell_type": "markdown",
      "metadata": {
        "id": "W-6984nRlxC5"
      },
      "source": [
        "# SAIDA EM DIFERENTES FORMATOS"
      ]
    },
    {
      "cell_type": "code",
      "metadata": {
        "id": "BVISltyClxnK"
      },
      "source": [
        "matriculas_por_curso.head()"
      ],
      "execution_count": null,
      "outputs": []
    },
    {
      "cell_type": "code",
      "metadata": {
        "id": "qXZLI_9Hl2L8"
      },
      "source": [
        "matriculas_por_curso.to_csv('matriculas_por_curso.csv', index=False)"
      ],
      "execution_count": null,
      "outputs": []
    },
    {
      "cell_type": "code",
      "metadata": {
        "id": "7s4vEOupmC2R"
      },
      "source": [
        "pd.read_csv('matriculas_por_curso.csv')"
      ],
      "execution_count": null,
      "outputs": []
    },
    {
      "cell_type": "code",
      "metadata": {
        "id": "9DjKM6gKmMTw"
      },
      "source": [
        "matriculas_json = matriculas_por_curso.to_json()\r\n",
        "matriculas_json"
      ],
      "execution_count": null,
      "outputs": []
    },
    {
      "cell_type": "code",
      "metadata": {
        "id": "bFwkai4ImiKI"
      },
      "source": [
        "matriculas_html = matriculas_por_curso.to_html()\r\n",
        "matriculas_html"
      ],
      "execution_count": null,
      "outputs": []
    },
    {
      "cell_type": "code",
      "metadata": {
        "id": "JimpmByxmtEH"
      },
      "source": [
        "print(matriculas_html)"
      ],
      "execution_count": null,
      "outputs": []
    },
    {
      "cell_type": "code",
      "metadata": {
        "id": "_WvvJz1_my83"
      },
      "source": [
        ""
      ],
      "execution_count": null,
      "outputs": []
    },
    {
      "cell_type": "code",
      "metadata": {
        "id": "ENvz4rhzpTRW"
      },
      "source": [
        ""
      ],
      "execution_count": null,
      "outputs": []
    },
    {
      "cell_type": "markdown",
      "metadata": {
        "id": "_WYZF6xEpUFL"
      },
      "source": [
        "# Criando o Banco SQL"
      ]
    },
    {
      "cell_type": "code",
      "metadata": {
        "id": "ZvhulUAapXEW"
      },
      "source": [
        "!pip install sqlalchemy"
      ],
      "execution_count": null,
      "outputs": []
    },
    {
      "cell_type": "code",
      "metadata": {
        "id": "ukoJRzRQpbJH"
      },
      "source": [
        "from sqlalchemy import create_engine, MetaData, Table"
      ],
      "execution_count": null,
      "outputs": []
    },
    {
      "cell_type": "code",
      "metadata": {
        "id": "aTyO4Naxpwhc"
      },
      "source": [
        "engine = create_engine('sqlite:///:memory:')"
      ],
      "execution_count": null,
      "outputs": []
    },
    {
      "cell_type": "code",
      "metadata": {
        "id": "GAwmqag8q2WY"
      },
      "source": [
        "engine"
      ],
      "execution_count": null,
      "outputs": []
    },
    {
      "cell_type": "code",
      "metadata": {
        "id": "jzOQiVIcrpTW"
      },
      "source": [
        "type(engine)"
      ],
      "execution_count": null,
      "outputs": []
    },
    {
      "cell_type": "code",
      "metadata": {
        "id": "Na9CEShzrrWN"
      },
      "source": [
        "matriculas_por_curso.head(3)"
      ],
      "execution_count": null,
      "outputs": []
    },
    {
      "cell_type": "code",
      "metadata": {
        "id": "4IcTxNDxrwWN"
      },
      "source": [
        "matriculas_por_curso.to_sql('matriculas', engine)"
      ],
      "execution_count": null,
      "outputs": []
    },
    {
      "cell_type": "code",
      "metadata": {
        "id": "C0Yy0BL1r6V9"
      },
      "source": [
        "print(engine.table_names())"
      ],
      "execution_count": null,
      "outputs": []
    },
    {
      "cell_type": "code",
      "metadata": {
        "id": "aQYu9CzGsAMk"
      },
      "source": [
        ""
      ],
      "execution_count": null,
      "outputs": []
    },
    {
      "cell_type": "code",
      "metadata": {
        "id": "ooJHH4qpsuzT"
      },
      "source": [
        ""
      ],
      "execution_count": null,
      "outputs": []
    },
    {
      "cell_type": "code",
      "metadata": {
        "id": "0Q1_GKrvsu2v"
      },
      "source": [
        ""
      ],
      "execution_count": null,
      "outputs": []
    },
    {
      "cell_type": "markdown",
      "metadata": {
        "id": "_5i4ybPjsvPU"
      },
      "source": [
        "#BUSCANDO DO BANCO SQL"
      ]
    },
    {
      "cell_type": "code",
      "metadata": {
        "id": "95ZTlH7gsxpx"
      },
      "source": [
        "query = 'select * from matriculas where quantidade_de_alunos < 20'"
      ],
      "execution_count": null,
      "outputs": []
    },
    {
      "cell_type": "code",
      "metadata": {
        "id": "B7JXjT2ys96x"
      },
      "source": [
        "pd.read_sql(query, engine)"
      ],
      "execution_count": null,
      "outputs": []
    },
    {
      "cell_type": "code",
      "metadata": {
        "id": "QCCgAPieuVFF"
      },
      "source": [
        "# ou"
      ],
      "execution_count": null,
      "outputs": []
    },
    {
      "cell_type": "code",
      "metadata": {
        "id": "RjNlPiN2tCxo"
      },
      "source": [
        "muitas_matriculas = pd.read_sql_table('matriculas', engine, columns=['Nome do curso', 'quantidade_de_alunos'])"
      ],
      "execution_count": 367,
      "outputs": []
    },
    {
      "cell_type": "code",
      "metadata": {
        "id": "ToweVsUNt2it"
      },
      "source": [
        "muitas_matriculas = pd.read_sql_table('matriculas', engine, columns=['Nome do curso', 'quantidade_de_alunos'])\r\n"
      ],
      "execution_count": 368,
      "outputs": []
    },
    {
      "cell_type": "code",
      "metadata": {
        "colab": {
          "base_uri": "https://localhost:8080/",
          "height": 669
        },
        "id": "o5eVwo4IufHD",
        "outputId": "dbf9b546-0b0e-47b7-c97a-7ee8f05006cf"
      },
      "source": [
        "muitas_matriculas"
      ],
      "execution_count": 369,
      "outputs": [
        {
          "output_type": "execute_result",
          "data": {
            "text/html": [
              "<div>\n",
              "<style scoped>\n",
              "    .dataframe tbody tr th:only-of-type {\n",
              "        vertical-align: middle;\n",
              "    }\n",
              "\n",
              "    .dataframe tbody tr th {\n",
              "        vertical-align: top;\n",
              "    }\n",
              "\n",
              "    .dataframe thead th {\n",
              "        text-align: right;\n",
              "    }\n",
              "</style>\n",
              "<table border=\"1\" class=\"dataframe\">\n",
              "  <thead>\n",
              "    <tr style=\"text-align: right;\">\n",
              "      <th></th>\n",
              "      <th>Nome do curso</th>\n",
              "      <th>quantidade_de_alunos</th>\n",
              "    </tr>\n",
              "  </thead>\n",
              "  <tbody>\n",
              "    <tr>\n",
              "      <th>0</th>\n",
              "      <td>Lógica de programação</td>\n",
              "      <td>94</td>\n",
              "    </tr>\n",
              "    <tr>\n",
              "      <th>1</th>\n",
              "      <td>Java para Web</td>\n",
              "      <td>65</td>\n",
              "    </tr>\n",
              "    <tr>\n",
              "      <th>2</th>\n",
              "      <td>C# para Web</td>\n",
              "      <td>57</td>\n",
              "    </tr>\n",
              "    <tr>\n",
              "      <th>3</th>\n",
              "      <td>Ruby on Rails</td>\n",
              "      <td>51</td>\n",
              "    </tr>\n",
              "    <tr>\n",
              "      <th>4</th>\n",
              "      <td>Cursos de Python</td>\n",
              "      <td>6</td>\n",
              "    </tr>\n",
              "    <tr>\n",
              "      <th>5</th>\n",
              "      <td>PHP com MySql</td>\n",
              "      <td>32</td>\n",
              "    </tr>\n",
              "    <tr>\n",
              "      <th>6</th>\n",
              "      <td>.NET para web</td>\n",
              "      <td>11</td>\n",
              "    </tr>\n",
              "    <tr>\n",
              "      <th>7</th>\n",
              "      <td>Novas integrações com Java</td>\n",
              "      <td>59</td>\n",
              "    </tr>\n",
              "    <tr>\n",
              "      <th>8</th>\n",
              "      <td>TDD com Java</td>\n",
              "      <td>8</td>\n",
              "    </tr>\n",
              "    <tr>\n",
              "      <th>9</th>\n",
              "      <td>Código limpo com C#</td>\n",
              "      <td>48</td>\n",
              "    </tr>\n",
              "    <tr>\n",
              "      <th>10</th>\n",
              "      <td>Preparatório para certificação Java</td>\n",
              "      <td>23</td>\n",
              "    </tr>\n",
              "    <tr>\n",
              "      <th>11</th>\n",
              "      <td>Hardware básico</td>\n",
              "      <td>37</td>\n",
              "    </tr>\n",
              "    <tr>\n",
              "      <th>12</th>\n",
              "      <td>Persistência com .NET</td>\n",
              "      <td>8</td>\n",
              "    </tr>\n",
              "    <tr>\n",
              "      <th>13</th>\n",
              "      <td>Desenvolvendo jogos</td>\n",
              "      <td>47</td>\n",
              "    </tr>\n",
              "    <tr>\n",
              "      <th>14</th>\n",
              "      <td>Análise de dados</td>\n",
              "      <td>70</td>\n",
              "    </tr>\n",
              "    <tr>\n",
              "      <th>15</th>\n",
              "      <td>Estatística básica</td>\n",
              "      <td>21</td>\n",
              "    </tr>\n",
              "    <tr>\n",
              "      <th>16</th>\n",
              "      <td>Internet das coisas</td>\n",
              "      <td>7</td>\n",
              "    </tr>\n",
              "    <tr>\n",
              "      <th>17</th>\n",
              "      <td>Programação funcional</td>\n",
              "      <td>92</td>\n",
              "    </tr>\n",
              "    <tr>\n",
              "      <th>18</th>\n",
              "      <td>Boas práticas em Java</td>\n",
              "      <td>45</td>\n",
              "    </tr>\n",
              "    <tr>\n",
              "      <th>19</th>\n",
              "      <td>Orientação objetos com Java</td>\n",
              "      <td>63</td>\n",
              "    </tr>\n",
              "  </tbody>\n",
              "</table>\n",
              "</div>"
            ],
            "text/plain": [
              "                          Nome do curso  quantidade_de_alunos\n",
              "0                 Lógica de programação                    94\n",
              "1                         Java para Web                    65\n",
              "2                           C# para Web                    57\n",
              "3                         Ruby on Rails                    51\n",
              "4                      Cursos de Python                     6\n",
              "5                         PHP com MySql                    32\n",
              "6                         .NET para web                    11\n",
              "7            Novas integrações com Java                    59\n",
              "8                          TDD com Java                     8\n",
              "9                   Código limpo com C#                    48\n",
              "10  Preparatório para certificação Java                    23\n",
              "11                      Hardware básico                    37\n",
              "12                Persistência com .NET                     8\n",
              "13                  Desenvolvendo jogos                    47\n",
              "14                     Análise de dados                    70\n",
              "15                   Estatística básica                    21\n",
              "16                  Internet das coisas                     7\n",
              "17                Programação funcional                    92\n",
              "18                Boas práticas em Java                    45\n",
              "19          Orientação objetos com Java                    63"
            ]
          },
          "metadata": {
            "tags": []
          },
          "execution_count": 369
        }
      ]
    },
    {
      "cell_type": "code",
      "metadata": {
        "colab": {
          "base_uri": "https://localhost:8080/",
          "height": 111
        },
        "id": "pW_twd2hugxq",
        "outputId": "7ee9fb35-0788-470a-b0d7-bec9afcea783"
      },
      "source": [
        "muitas_matriculas.query('quantidade_de_alunos > 80')"
      ],
      "execution_count": 370,
      "outputs": [
        {
          "output_type": "execute_result",
          "data": {
            "text/html": [
              "<div>\n",
              "<style scoped>\n",
              "    .dataframe tbody tr th:only-of-type {\n",
              "        vertical-align: middle;\n",
              "    }\n",
              "\n",
              "    .dataframe tbody tr th {\n",
              "        vertical-align: top;\n",
              "    }\n",
              "\n",
              "    .dataframe thead th {\n",
              "        text-align: right;\n",
              "    }\n",
              "</style>\n",
              "<table border=\"1\" class=\"dataframe\">\n",
              "  <thead>\n",
              "    <tr style=\"text-align: right;\">\n",
              "      <th></th>\n",
              "      <th>Nome do curso</th>\n",
              "      <th>quantidade_de_alunos</th>\n",
              "    </tr>\n",
              "  </thead>\n",
              "  <tbody>\n",
              "    <tr>\n",
              "      <th>0</th>\n",
              "      <td>Lógica de programação</td>\n",
              "      <td>94</td>\n",
              "    </tr>\n",
              "    <tr>\n",
              "      <th>17</th>\n",
              "      <td>Programação funcional</td>\n",
              "      <td>92</td>\n",
              "    </tr>\n",
              "  </tbody>\n",
              "</table>\n",
              "</div>"
            ],
            "text/plain": [
              "            Nome do curso  quantidade_de_alunos\n",
              "0   Lógica de programação                    94\n",
              "17  Programação funcional                    92"
            ]
          },
          "metadata": {
            "tags": []
          },
          "execution_count": 370
        }
      ]
    },
    {
      "cell_type": "code",
      "metadata": {
        "id": "lYxPUvd9uqij"
      },
      "source": [
        "muitas_matriculas =  muitas_matriculas.query('quantidade_de_alunos > 80')"
      ],
      "execution_count": 371,
      "outputs": []
    },
    {
      "cell_type": "code",
      "metadata": {
        "colab": {
          "base_uri": "https://localhost:8080/",
          "height": 111
        },
        "id": "OOBWUbW8u3R6",
        "outputId": "c0544411-57bc-4f85-e4b4-83f87585bc61"
      },
      "source": [
        "muitas_matriculas"
      ],
      "execution_count": 372,
      "outputs": [
        {
          "output_type": "execute_result",
          "data": {
            "text/html": [
              "<div>\n",
              "<style scoped>\n",
              "    .dataframe tbody tr th:only-of-type {\n",
              "        vertical-align: middle;\n",
              "    }\n",
              "\n",
              "    .dataframe tbody tr th {\n",
              "        vertical-align: top;\n",
              "    }\n",
              "\n",
              "    .dataframe thead th {\n",
              "        text-align: right;\n",
              "    }\n",
              "</style>\n",
              "<table border=\"1\" class=\"dataframe\">\n",
              "  <thead>\n",
              "    <tr style=\"text-align: right;\">\n",
              "      <th></th>\n",
              "      <th>Nome do curso</th>\n",
              "      <th>quantidade_de_alunos</th>\n",
              "    </tr>\n",
              "  </thead>\n",
              "  <tbody>\n",
              "    <tr>\n",
              "      <th>0</th>\n",
              "      <td>Lógica de programação</td>\n",
              "      <td>94</td>\n",
              "    </tr>\n",
              "    <tr>\n",
              "      <th>17</th>\n",
              "      <td>Programação funcional</td>\n",
              "      <td>92</td>\n",
              "    </tr>\n",
              "  </tbody>\n",
              "</table>\n",
              "</div>"
            ],
            "text/plain": [
              "            Nome do curso  quantidade_de_alunos\n",
              "0   Lógica de programação                    94\n",
              "17  Programação funcional                    92"
            ]
          },
          "metadata": {
            "tags": []
          },
          "execution_count": 372
        }
      ]
    },
    {
      "cell_type": "code",
      "metadata": {
        "id": "vtYGrh1_u5Dk"
      },
      "source": [
        ""
      ],
      "execution_count": 372,
      "outputs": []
    },
    {
      "cell_type": "markdown",
      "metadata": {
        "id": "_gNycljqu7N0"
      },
      "source": [
        "#ESCREVENDO NO BANCO"
      ]
    },
    {
      "cell_type": "code",
      "metadata": {
        "colab": {
          "base_uri": "https://localhost:8080/",
          "height": 306
        },
        "id": "r-2tVVnlu-OZ",
        "outputId": "bb6d788d-d9c1-4b6f-a836-7047c0b137dc"
      },
      "source": [
        "muitas_matriculas.to_sql('muitas_matriculas', con=engine)"
      ],
      "execution_count": 373,
      "outputs": [
        {
          "output_type": "error",
          "ename": "ValueError",
          "evalue": "ignored",
          "traceback": [
            "\u001b[0;31m---------------------------------------------------------------------------\u001b[0m",
            "\u001b[0;31mValueError\u001b[0m                                Traceback (most recent call last)",
            "\u001b[0;32m<ipython-input-373-46bd7b748525>\u001b[0m in \u001b[0;36m<module>\u001b[0;34m()\u001b[0m\n\u001b[0;32m----> 1\u001b[0;31m \u001b[0mmuitas_matriculas\u001b[0m\u001b[0;34m.\u001b[0m\u001b[0mto_sql\u001b[0m\u001b[0;34m(\u001b[0m\u001b[0;34m'muitas_matriculas'\u001b[0m\u001b[0;34m,\u001b[0m \u001b[0mcon\u001b[0m\u001b[0;34m=\u001b[0m\u001b[0mengine\u001b[0m\u001b[0;34m)\u001b[0m\u001b[0;34m\u001b[0m\u001b[0;34m\u001b[0m\u001b[0m\n\u001b[0m",
            "\u001b[0;32m/usr/local/lib/python3.6/dist-packages/pandas/core/generic.py\u001b[0m in \u001b[0;36mto_sql\u001b[0;34m(self, name, con, schema, if_exists, index, index_label, chunksize, dtype, method)\u001b[0m\n\u001b[1;32m   2613\u001b[0m             \u001b[0mchunksize\u001b[0m\u001b[0;34m=\u001b[0m\u001b[0mchunksize\u001b[0m\u001b[0;34m,\u001b[0m\u001b[0;34m\u001b[0m\u001b[0;34m\u001b[0m\u001b[0m\n\u001b[1;32m   2614\u001b[0m             \u001b[0mdtype\u001b[0m\u001b[0;34m=\u001b[0m\u001b[0mdtype\u001b[0m\u001b[0;34m,\u001b[0m\u001b[0;34m\u001b[0m\u001b[0;34m\u001b[0m\u001b[0m\n\u001b[0;32m-> 2615\u001b[0;31m             \u001b[0mmethod\u001b[0m\u001b[0;34m=\u001b[0m\u001b[0mmethod\u001b[0m\u001b[0;34m,\u001b[0m\u001b[0;34m\u001b[0m\u001b[0;34m\u001b[0m\u001b[0m\n\u001b[0m\u001b[1;32m   2616\u001b[0m         )\n\u001b[1;32m   2617\u001b[0m \u001b[0;34m\u001b[0m\u001b[0m\n",
            "\u001b[0;32m/usr/local/lib/python3.6/dist-packages/pandas/io/sql.py\u001b[0m in \u001b[0;36mto_sql\u001b[0;34m(frame, name, con, schema, if_exists, index, index_label, chunksize, dtype, method)\u001b[0m\n\u001b[1;32m    596\u001b[0m         \u001b[0mchunksize\u001b[0m\u001b[0;34m=\u001b[0m\u001b[0mchunksize\u001b[0m\u001b[0;34m,\u001b[0m\u001b[0;34m\u001b[0m\u001b[0;34m\u001b[0m\u001b[0m\n\u001b[1;32m    597\u001b[0m         \u001b[0mdtype\u001b[0m\u001b[0;34m=\u001b[0m\u001b[0mdtype\u001b[0m\u001b[0;34m,\u001b[0m\u001b[0;34m\u001b[0m\u001b[0;34m\u001b[0m\u001b[0m\n\u001b[0;32m--> 598\u001b[0;31m         \u001b[0mmethod\u001b[0m\u001b[0;34m=\u001b[0m\u001b[0mmethod\u001b[0m\u001b[0;34m,\u001b[0m\u001b[0;34m\u001b[0m\u001b[0;34m\u001b[0m\u001b[0m\n\u001b[0m\u001b[1;32m    599\u001b[0m     )\n\u001b[1;32m    600\u001b[0m \u001b[0;34m\u001b[0m\u001b[0m\n",
            "\u001b[0;32m/usr/local/lib/python3.6/dist-packages/pandas/io/sql.py\u001b[0m in \u001b[0;36mto_sql\u001b[0;34m(self, frame, name, if_exists, index, index_label, schema, chunksize, dtype, method)\u001b[0m\n\u001b[1;32m   1391\u001b[0m             \u001b[0mdtype\u001b[0m\u001b[0;34m=\u001b[0m\u001b[0mdtype\u001b[0m\u001b[0;34m,\u001b[0m\u001b[0;34m\u001b[0m\u001b[0;34m\u001b[0m\u001b[0m\n\u001b[1;32m   1392\u001b[0m         )\n\u001b[0;32m-> 1393\u001b[0;31m         \u001b[0mtable\u001b[0m\u001b[0;34m.\u001b[0m\u001b[0mcreate\u001b[0m\u001b[0;34m(\u001b[0m\u001b[0;34m)\u001b[0m\u001b[0;34m\u001b[0m\u001b[0;34m\u001b[0m\u001b[0m\n\u001b[0m\u001b[1;32m   1394\u001b[0m \u001b[0;34m\u001b[0m\u001b[0m\n\u001b[1;32m   1395\u001b[0m         \u001b[0;32mfrom\u001b[0m \u001b[0msqlalchemy\u001b[0m \u001b[0;32mimport\u001b[0m \u001b[0mexc\u001b[0m\u001b[0;34m\u001b[0m\u001b[0;34m\u001b[0m\u001b[0m\n",
            "\u001b[0;32m/usr/local/lib/python3.6/dist-packages/pandas/io/sql.py\u001b[0m in \u001b[0;36mcreate\u001b[0;34m(self)\u001b[0m\n\u001b[1;32m    721\u001b[0m         \u001b[0;32mif\u001b[0m \u001b[0mself\u001b[0m\u001b[0;34m.\u001b[0m\u001b[0mexists\u001b[0m\u001b[0;34m(\u001b[0m\u001b[0;34m)\u001b[0m\u001b[0;34m:\u001b[0m\u001b[0;34m\u001b[0m\u001b[0;34m\u001b[0m\u001b[0m\n\u001b[1;32m    722\u001b[0m             \u001b[0;32mif\u001b[0m \u001b[0mself\u001b[0m\u001b[0;34m.\u001b[0m\u001b[0mif_exists\u001b[0m \u001b[0;34m==\u001b[0m \u001b[0;34m\"fail\"\u001b[0m\u001b[0;34m:\u001b[0m\u001b[0;34m\u001b[0m\u001b[0;34m\u001b[0m\u001b[0m\n\u001b[0;32m--> 723\u001b[0;31m                 \u001b[0;32mraise\u001b[0m \u001b[0mValueError\u001b[0m\u001b[0;34m(\u001b[0m\u001b[0;34mf\"Table '{self.name}' already exists.\"\u001b[0m\u001b[0;34m)\u001b[0m\u001b[0;34m\u001b[0m\u001b[0;34m\u001b[0m\u001b[0m\n\u001b[0m\u001b[1;32m    724\u001b[0m             \u001b[0;32melif\u001b[0m \u001b[0mself\u001b[0m\u001b[0;34m.\u001b[0m\u001b[0mif_exists\u001b[0m \u001b[0;34m==\u001b[0m \u001b[0;34m\"replace\"\u001b[0m\u001b[0;34m:\u001b[0m\u001b[0;34m\u001b[0m\u001b[0;34m\u001b[0m\u001b[0m\n\u001b[1;32m    725\u001b[0m                 \u001b[0mself\u001b[0m\u001b[0;34m.\u001b[0m\u001b[0mpd_sql\u001b[0m\u001b[0;34m.\u001b[0m\u001b[0mdrop_table\u001b[0m\u001b[0;34m(\u001b[0m\u001b[0mself\u001b[0m\u001b[0;34m.\u001b[0m\u001b[0mname\u001b[0m\u001b[0;34m,\u001b[0m \u001b[0mself\u001b[0m\u001b[0;34m.\u001b[0m\u001b[0mschema\u001b[0m\u001b[0;34m)\u001b[0m\u001b[0;34m\u001b[0m\u001b[0;34m\u001b[0m\u001b[0m\n",
            "\u001b[0;31mValueError\u001b[0m: Table 'muitas_matriculas' already exists."
          ]
        }
      ]
    },
    {
      "cell_type": "code",
      "metadata": {
        "colab": {
          "base_uri": "https://localhost:8080/"
        },
        "id": "EPpwSfTovPMY",
        "outputId": "98fcbabe-6f1a-4438-c978-afbd3aa95a69"
      },
      "source": [
        "print(engine.table_names())"
      ],
      "execution_count": 374,
      "outputs": [
        {
          "output_type": "stream",
          "text": [
            "['matriculas', 'muitas_matriculas']\n"
          ],
          "name": "stdout"
        }
      ]
    },
    {
      "cell_type": "code",
      "metadata": {
        "id": "qHaCYH6FvhH3"
      },
      "source": [
        ""
      ],
      "execution_count": null,
      "outputs": []
    },
    {
      "cell_type": "markdown",
      "metadata": {
        "id": "R52IDzT48rV7"
      },
      "source": [
        "# NOMES DOS ALUNOS DA PROXIMA TURMA"
      ]
    },
    {
      "cell_type": "code",
      "metadata": {
        "colab": {
          "base_uri": "https://localhost:8080/",
          "height": 235
        },
        "id": "0xii8AiC8txJ",
        "outputId": "9b0e5b30-be5d-406c-dc32-a577f3a37368"
      },
      "source": [
        "matriculas_por_curso.head()"
      ],
      "execution_count": 375,
      "outputs": [
        {
          "output_type": "execute_result",
          "data": {
            "text/html": [
              "<div>\n",
              "<style scoped>\n",
              "    .dataframe tbody tr th:only-of-type {\n",
              "        vertical-align: middle;\n",
              "    }\n",
              "\n",
              "    .dataframe tbody tr th {\n",
              "        vertical-align: top;\n",
              "    }\n",
              "\n",
              "    .dataframe thead th {\n",
              "        text-align: right;\n",
              "    }\n",
              "</style>\n",
              "<table border=\"1\" class=\"dataframe\">\n",
              "  <thead>\n",
              "    <tr style=\"text-align: right;\">\n",
              "      <th></th>\n",
              "      <th>quantidade_de_alunos</th>\n",
              "      <th>Nome do curso</th>\n",
              "    </tr>\n",
              "    <tr>\n",
              "      <th>id_curso</th>\n",
              "      <th></th>\n",
              "      <th></th>\n",
              "    </tr>\n",
              "  </thead>\n",
              "  <tbody>\n",
              "    <tr>\n",
              "      <th>1</th>\n",
              "      <td>94</td>\n",
              "      <td>Lógica de programação</td>\n",
              "    </tr>\n",
              "    <tr>\n",
              "      <th>2</th>\n",
              "      <td>65</td>\n",
              "      <td>Java para Web</td>\n",
              "    </tr>\n",
              "    <tr>\n",
              "      <th>3</th>\n",
              "      <td>57</td>\n",
              "      <td>C# para Web</td>\n",
              "    </tr>\n",
              "    <tr>\n",
              "      <th>4</th>\n",
              "      <td>51</td>\n",
              "      <td>Ruby on Rails</td>\n",
              "    </tr>\n",
              "    <tr>\n",
              "      <th>5</th>\n",
              "      <td>6</td>\n",
              "      <td>Cursos de Python</td>\n",
              "    </tr>\n",
              "  </tbody>\n",
              "</table>\n",
              "</div>"
            ],
            "text/plain": [
              "          quantidade_de_alunos          Nome do curso\n",
              "id_curso                                             \n",
              "1                           94  Lógica de programação\n",
              "2                           65          Java para Web\n",
              "3                           57            C# para Web\n",
              "4                           51          Ruby on Rails\n",
              "5                            6       Cursos de Python"
            ]
          },
          "metadata": {
            "tags": []
          },
          "execution_count": 375
        }
      ]
    },
    {
      "cell_type": "code",
      "metadata": {
        "colab": {
          "base_uri": "https://localhost:8080/",
          "height": 419
        },
        "id": "zs79ij3r8yOw",
        "outputId": "0db38218-5243-43fd-8124-769444f13972"
      },
      "source": [
        "matriculas"
      ],
      "execution_count": 376,
      "outputs": [
        {
          "output_type": "execute_result",
          "data": {
            "text/html": [
              "<div>\n",
              "<style scoped>\n",
              "    .dataframe tbody tr th:only-of-type {\n",
              "        vertical-align: middle;\n",
              "    }\n",
              "\n",
              "    .dataframe tbody tr th {\n",
              "        vertical-align: top;\n",
              "    }\n",
              "\n",
              "    .dataframe thead th {\n",
              "        text-align: right;\n",
              "    }\n",
              "</style>\n",
              "<table border=\"1\" class=\"dataframe\">\n",
              "  <thead>\n",
              "    <tr style=\"text-align: right;\">\n",
              "      <th></th>\n",
              "      <th>id_aluno</th>\n",
              "      <th>id_curso</th>\n",
              "    </tr>\n",
              "  </thead>\n",
              "  <tbody>\n",
              "    <tr>\n",
              "      <th>0</th>\n",
              "      <td>235</td>\n",
              "      <td>1</td>\n",
              "    </tr>\n",
              "    <tr>\n",
              "      <th>1</th>\n",
              "      <td>235</td>\n",
              "      <td>1</td>\n",
              "    </tr>\n",
              "    <tr>\n",
              "      <th>2</th>\n",
              "      <td>235</td>\n",
              "      <td>15</td>\n",
              "    </tr>\n",
              "    <tr>\n",
              "      <th>3</th>\n",
              "      <td>43</td>\n",
              "      <td>2</td>\n",
              "    </tr>\n",
              "    <tr>\n",
              "      <th>4</th>\n",
              "      <td>304</td>\n",
              "      <td>1</td>\n",
              "    </tr>\n",
              "    <tr>\n",
              "      <th>...</th>\n",
              "      <td>...</td>\n",
              "      <td>...</td>\n",
              "    </tr>\n",
              "    <tr>\n",
              "      <th>839</th>\n",
              "      <td>383</td>\n",
              "      <td>3</td>\n",
              "    </tr>\n",
              "    <tr>\n",
              "      <th>840</th>\n",
              "      <td>383</td>\n",
              "      <td>18</td>\n",
              "    </tr>\n",
              "    <tr>\n",
              "      <th>841</th>\n",
              "      <td>383</td>\n",
              "      <td>18</td>\n",
              "    </tr>\n",
              "    <tr>\n",
              "      <th>842</th>\n",
              "      <td>383</td>\n",
              "      <td>12</td>\n",
              "    </tr>\n",
              "    <tr>\n",
              "      <th>843</th>\n",
              "      <td>366</td>\n",
              "      <td>2</td>\n",
              "    </tr>\n",
              "  </tbody>\n",
              "</table>\n",
              "<p>844 rows × 2 columns</p>\n",
              "</div>"
            ],
            "text/plain": [
              "     id_aluno  id_curso\n",
              "0         235         1\n",
              "1         235         1\n",
              "2         235        15\n",
              "3          43         2\n",
              "4         304         1\n",
              "..        ...       ...\n",
              "839       383         3\n",
              "840       383        18\n",
              "841       383        18\n",
              "842       383        12\n",
              "843       366         2\n",
              "\n",
              "[844 rows x 2 columns]"
            ]
          },
          "metadata": {
            "tags": []
          },
          "execution_count": 376
        }
      ]
    },
    {
      "cell_type": "code",
      "metadata": {
        "colab": {
          "base_uri": "https://localhost:8080/",
          "height": 700
        },
        "id": "jQbPMwk588HY",
        "outputId": "b8fe8f7a-e1f2-43ad-8a6b-3da295edcecf"
      },
      "source": [
        "id_curso = 16\r\n",
        "proxima_turma = matriculas.query(\"id_curso == {}\".format(id_curso))\r\n",
        "proxima_turma"
      ],
      "execution_count": 377,
      "outputs": [
        {
          "output_type": "execute_result",
          "data": {
            "text/html": [
              "<div>\n",
              "<style scoped>\n",
              "    .dataframe tbody tr th:only-of-type {\n",
              "        vertical-align: middle;\n",
              "    }\n",
              "\n",
              "    .dataframe tbody tr th {\n",
              "        vertical-align: top;\n",
              "    }\n",
              "\n",
              "    .dataframe thead th {\n",
              "        text-align: right;\n",
              "    }\n",
              "</style>\n",
              "<table border=\"1\" class=\"dataframe\">\n",
              "  <thead>\n",
              "    <tr style=\"text-align: right;\">\n",
              "      <th></th>\n",
              "      <th>id_aluno</th>\n",
              "      <th>id_curso</th>\n",
              "    </tr>\n",
              "  </thead>\n",
              "  <tbody>\n",
              "    <tr>\n",
              "      <th>35</th>\n",
              "      <td>10</td>\n",
              "      <td>16</td>\n",
              "    </tr>\n",
              "    <tr>\n",
              "      <th>107</th>\n",
              "      <td>233</td>\n",
              "      <td>16</td>\n",
              "    </tr>\n",
              "    <tr>\n",
              "      <th>109</th>\n",
              "      <td>281</td>\n",
              "      <td>16</td>\n",
              "    </tr>\n",
              "    <tr>\n",
              "      <th>157</th>\n",
              "      <td>203</td>\n",
              "      <td>16</td>\n",
              "    </tr>\n",
              "    <tr>\n",
              "      <th>181</th>\n",
              "      <td>381</td>\n",
              "      <td>16</td>\n",
              "    </tr>\n",
              "    <tr>\n",
              "      <th>244</th>\n",
              "      <td>289</td>\n",
              "      <td>16</td>\n",
              "    </tr>\n",
              "    <tr>\n",
              "      <th>387</th>\n",
              "      <td>137</td>\n",
              "      <td>16</td>\n",
              "    </tr>\n",
              "    <tr>\n",
              "      <th>457</th>\n",
              "      <td>321</td>\n",
              "      <td>16</td>\n",
              "    </tr>\n",
              "    <tr>\n",
              "      <th>485</th>\n",
              "      <td>322</td>\n",
              "      <td>16</td>\n",
              "    </tr>\n",
              "    <tr>\n",
              "      <th>521</th>\n",
              "      <td>384</td>\n",
              "      <td>16</td>\n",
              "    </tr>\n",
              "    <tr>\n",
              "      <th>523</th>\n",
              "      <td>337</td>\n",
              "      <td>16</td>\n",
              "    </tr>\n",
              "    <tr>\n",
              "      <th>581</th>\n",
              "      <td>154</td>\n",
              "      <td>16</td>\n",
              "    </tr>\n",
              "    <tr>\n",
              "      <th>591</th>\n",
              "      <td>66</td>\n",
              "      <td>16</td>\n",
              "    </tr>\n",
              "    <tr>\n",
              "      <th>647</th>\n",
              "      <td>15</td>\n",
              "      <td>16</td>\n",
              "    </tr>\n",
              "    <tr>\n",
              "      <th>702</th>\n",
              "      <td>44</td>\n",
              "      <td>16</td>\n",
              "    </tr>\n",
              "    <tr>\n",
              "      <th>712</th>\n",
              "      <td>271</td>\n",
              "      <td>16</td>\n",
              "    </tr>\n",
              "    <tr>\n",
              "      <th>716</th>\n",
              "      <td>376</td>\n",
              "      <td>16</td>\n",
              "    </tr>\n",
              "    <tr>\n",
              "      <th>720</th>\n",
              "      <td>159</td>\n",
              "      <td>16</td>\n",
              "    </tr>\n",
              "    <tr>\n",
              "      <th>736</th>\n",
              "      <td>147</td>\n",
              "      <td>16</td>\n",
              "    </tr>\n",
              "    <tr>\n",
              "      <th>753</th>\n",
              "      <td>351</td>\n",
              "      <td>16</td>\n",
              "    </tr>\n",
              "    <tr>\n",
              "      <th>766</th>\n",
              "      <td>362</td>\n",
              "      <td>16</td>\n",
              "    </tr>\n",
              "  </tbody>\n",
              "</table>\n",
              "</div>"
            ],
            "text/plain": [
              "     id_aluno  id_curso\n",
              "35         10        16\n",
              "107       233        16\n",
              "109       281        16\n",
              "157       203        16\n",
              "181       381        16\n",
              "244       289        16\n",
              "387       137        16\n",
              "457       321        16\n",
              "485       322        16\n",
              "521       384        16\n",
              "523       337        16\n",
              "581       154        16\n",
              "591        66        16\n",
              "647        15        16\n",
              "702        44        16\n",
              "712       271        16\n",
              "716       376        16\n",
              "720       159        16\n",
              "736       147        16\n",
              "753       351        16\n",
              "766       362        16"
            ]
          },
          "metadata": {
            "tags": []
          },
          "execution_count": 377
        }
      ]
    },
    {
      "cell_type": "code",
      "metadata": {
        "id": "nG2XbymL9afN"
      },
      "source": [
        "# juntar duas tabelas com nomes e a id"
      ],
      "execution_count": null,
      "outputs": []
    },
    {
      "cell_type": "code",
      "metadata": {
        "colab": {
          "base_uri": "https://localhost:8080/",
          "height": 80
        },
        "id": "SRY-qFm19tcl",
        "outputId": "90174f4e-43ba-475c-bcf4-27c5b190edfc"
      },
      "source": [
        "nomes.sample()"
      ],
      "execution_count": 378,
      "outputs": [
        {
          "output_type": "execute_result",
          "data": {
            "text/html": [
              "<div>\n",
              "<style scoped>\n",
              "    .dataframe tbody tr th:only-of-type {\n",
              "        vertical-align: middle;\n",
              "    }\n",
              "\n",
              "    .dataframe tbody tr th {\n",
              "        vertical-align: top;\n",
              "    }\n",
              "\n",
              "    .dataframe thead th {\n",
              "        text-align: right;\n",
              "    }\n",
              "</style>\n",
              "<table border=\"1\" class=\"dataframe\">\n",
              "  <thead>\n",
              "    <tr style=\"text-align: right;\">\n",
              "      <th></th>\n",
              "      <th>nome</th>\n",
              "      <th>id_aluno</th>\n",
              "      <th>dominio</th>\n",
              "      <th>email</th>\n",
              "      <th>matriculas</th>\n",
              "    </tr>\n",
              "  </thead>\n",
              "  <tbody>\n",
              "    <tr>\n",
              "      <th>80</th>\n",
              "      <td>TAIS</td>\n",
              "      <td>179</td>\n",
              "      <td>@dominioemail.com.br</td>\n",
              "      <td>tais@dominioemail.com.br</td>\n",
              "      <td>1</td>\n",
              "    </tr>\n",
              "  </tbody>\n",
              "</table>\n",
              "</div>"
            ],
            "text/plain": [
              "    nome  id_aluno               dominio                     email  matriculas\n",
              "80  TAIS       179  @dominioemail.com.br  tais@dominioemail.com.br           1"
            ]
          },
          "metadata": {
            "tags": []
          },
          "execution_count": 378
        }
      ]
    },
    {
      "cell_type": "code",
      "metadata": {
        "colab": {
          "base_uri": "https://localhost:8080/",
          "height": 731
        },
        "id": "rQ3grBHg9wzE",
        "outputId": "47db42e2-aedd-4715-f02a-5380575d3223"
      },
      "source": [
        "proxima_turma.set_index('id_aluno').join(nomes.set_index('id_aluno'))\r\n"
      ],
      "execution_count": 379,
      "outputs": [
        {
          "output_type": "execute_result",
          "data": {
            "text/html": [
              "<div>\n",
              "<style scoped>\n",
              "    .dataframe tbody tr th:only-of-type {\n",
              "        vertical-align: middle;\n",
              "    }\n",
              "\n",
              "    .dataframe tbody tr th {\n",
              "        vertical-align: top;\n",
              "    }\n",
              "\n",
              "    .dataframe thead th {\n",
              "        text-align: right;\n",
              "    }\n",
              "</style>\n",
              "<table border=\"1\" class=\"dataframe\">\n",
              "  <thead>\n",
              "    <tr style=\"text-align: right;\">\n",
              "      <th></th>\n",
              "      <th>id_curso</th>\n",
              "      <th>nome</th>\n",
              "      <th>dominio</th>\n",
              "      <th>email</th>\n",
              "      <th>matriculas</th>\n",
              "    </tr>\n",
              "    <tr>\n",
              "      <th>id_aluno</th>\n",
              "      <th></th>\n",
              "      <th></th>\n",
              "      <th></th>\n",
              "      <th></th>\n",
              "      <th></th>\n",
              "    </tr>\n",
              "  </thead>\n",
              "  <tbody>\n",
              "    <tr>\n",
              "      <th>10</th>\n",
              "      <td>16</td>\n",
              "      <td>MARIANA</td>\n",
              "      <td>@servicodoemail.com</td>\n",
              "      <td>mariana@servicodoemail.com</td>\n",
              "      <td>2</td>\n",
              "    </tr>\n",
              "    <tr>\n",
              "      <th>233</th>\n",
              "      <td>16</td>\n",
              "      <td>ELAINE</td>\n",
              "      <td>@servicodoemail.com</td>\n",
              "      <td>elaine@servicodoemail.com</td>\n",
              "      <td>1</td>\n",
              "    </tr>\n",
              "    <tr>\n",
              "      <th>281</th>\n",
              "      <td>16</td>\n",
              "      <td>REGINA</td>\n",
              "      <td>@dominioemail.com.br</td>\n",
              "      <td>regina@dominioemail.com.br</td>\n",
              "      <td>5</td>\n",
              "    </tr>\n",
              "    <tr>\n",
              "      <th>203</th>\n",
              "      <td>16</td>\n",
              "      <td>TATIANE</td>\n",
              "      <td>@dominioemail.com.br</td>\n",
              "      <td>tatiane@dominioemail.com.br</td>\n",
              "      <td>5</td>\n",
              "    </tr>\n",
              "    <tr>\n",
              "      <th>381</th>\n",
              "      <td>16</td>\n",
              "      <td>CRISTINA</td>\n",
              "      <td>@dominioemail.com.br</td>\n",
              "      <td>cristina@dominioemail.com.br</td>\n",
              "      <td>3</td>\n",
              "    </tr>\n",
              "    <tr>\n",
              "      <th>289</th>\n",
              "      <td>16</td>\n",
              "      <td>IVONE</td>\n",
              "      <td>@servicodoemail.com</td>\n",
              "      <td>ivone@servicodoemail.com</td>\n",
              "      <td>1</td>\n",
              "    </tr>\n",
              "    <tr>\n",
              "      <th>137</th>\n",
              "      <td>16</td>\n",
              "      <td>DALVA</td>\n",
              "      <td>@dominioemail.com.br</td>\n",
              "      <td>dalva@dominioemail.com.br</td>\n",
              "      <td>3</td>\n",
              "    </tr>\n",
              "    <tr>\n",
              "      <th>321</th>\n",
              "      <td>16</td>\n",
              "      <td>FERNANDO</td>\n",
              "      <td>@dominioemail.com.br</td>\n",
              "      <td>fernando@dominioemail.com.br</td>\n",
              "      <td>6</td>\n",
              "    </tr>\n",
              "    <tr>\n",
              "      <th>322</th>\n",
              "      <td>16</td>\n",
              "      <td>MARCIO</td>\n",
              "      <td>@dominioemail.com.br</td>\n",
              "      <td>marcio@dominioemail.com.br</td>\n",
              "      <td>4</td>\n",
              "    </tr>\n",
              "    <tr>\n",
              "      <th>384</th>\n",
              "      <td>16</td>\n",
              "      <td>RENATO</td>\n",
              "      <td>@servicodoemail.com</td>\n",
              "      <td>renato@servicodoemail.com</td>\n",
              "      <td>2</td>\n",
              "    </tr>\n",
              "    <tr>\n",
              "      <th>337</th>\n",
              "      <td>16</td>\n",
              "      <td>ALEX</td>\n",
              "      <td>@dominioemail.com.br</td>\n",
              "      <td>alex@dominioemail.com.br</td>\n",
              "      <td>2</td>\n",
              "    </tr>\n",
              "    <tr>\n",
              "      <th>154</th>\n",
              "      <td>16</td>\n",
              "      <td>CRISTIANO</td>\n",
              "      <td>@servicodoemail.com</td>\n",
              "      <td>cristiano@servicodoemail.com</td>\n",
              "      <td>3</td>\n",
              "    </tr>\n",
              "    <tr>\n",
              "      <th>66</th>\n",
              "      <td>16</td>\n",
              "      <td>LUAN</td>\n",
              "      <td>@dominioemail.com.br</td>\n",
              "      <td>luan@dominioemail.com.br</td>\n",
              "      <td>7</td>\n",
              "    </tr>\n",
              "    <tr>\n",
              "      <th>15</th>\n",
              "      <td>16</td>\n",
              "      <td>VAGNER</td>\n",
              "      <td>@servicodoemail.com</td>\n",
              "      <td>vagner@servicodoemail.com</td>\n",
              "      <td>1</td>\n",
              "    </tr>\n",
              "    <tr>\n",
              "      <th>44</th>\n",
              "      <td>16</td>\n",
              "      <td>NICOLAS</td>\n",
              "      <td>@dominioemail.com.br</td>\n",
              "      <td>nicolas@dominioemail.com.br</td>\n",
              "      <td>2</td>\n",
              "    </tr>\n",
              "    <tr>\n",
              "      <th>271</th>\n",
              "      <td>16</td>\n",
              "      <td>NILTON</td>\n",
              "      <td>@dominioemail.com.br</td>\n",
              "      <td>nilton@dominioemail.com.br</td>\n",
              "      <td>6</td>\n",
              "    </tr>\n",
              "    <tr>\n",
              "      <th>376</th>\n",
              "      <td>16</td>\n",
              "      <td>AUGUSTO</td>\n",
              "      <td>@dominioemail.com.br</td>\n",
              "      <td>augusto@dominioemail.com.br</td>\n",
              "      <td>2</td>\n",
              "    </tr>\n",
              "    <tr>\n",
              "      <th>159</th>\n",
              "      <td>16</td>\n",
              "      <td>ORLANDO</td>\n",
              "      <td>@servicodoemail.com</td>\n",
              "      <td>orlando@servicodoemail.com</td>\n",
              "      <td>1</td>\n",
              "    </tr>\n",
              "    <tr>\n",
              "      <th>147</th>\n",
              "      <td>16</td>\n",
              "      <td>VINICIOS</td>\n",
              "      <td>@servicodoemail.com</td>\n",
              "      <td>vinicios@servicodoemail.com</td>\n",
              "      <td>7</td>\n",
              "    </tr>\n",
              "    <tr>\n",
              "      <th>351</th>\n",
              "      <td>16</td>\n",
              "      <td>EMANUEL</td>\n",
              "      <td>@servicodoemail.com</td>\n",
              "      <td>emanuel@servicodoemail.com</td>\n",
              "      <td>2</td>\n",
              "    </tr>\n",
              "    <tr>\n",
              "      <th>362</th>\n",
              "      <td>16</td>\n",
              "      <td>NIVALDO</td>\n",
              "      <td>@servicodoemail.com</td>\n",
              "      <td>nivaldo@servicodoemail.com</td>\n",
              "      <td>1</td>\n",
              "    </tr>\n",
              "  </tbody>\n",
              "</table>\n",
              "</div>"
            ],
            "text/plain": [
              "          id_curso       nome  ...                         email matriculas\n",
              "id_aluno                       ...                                         \n",
              "10              16    MARIANA  ...    mariana@servicodoemail.com          2\n",
              "233             16     ELAINE  ...     elaine@servicodoemail.com          1\n",
              "281             16     REGINA  ...    regina@dominioemail.com.br          5\n",
              "203             16    TATIANE  ...   tatiane@dominioemail.com.br          5\n",
              "381             16   CRISTINA  ...  cristina@dominioemail.com.br          3\n",
              "289             16      IVONE  ...      ivone@servicodoemail.com          1\n",
              "137             16      DALVA  ...     dalva@dominioemail.com.br          3\n",
              "321             16   FERNANDO  ...  fernando@dominioemail.com.br          6\n",
              "322             16     MARCIO  ...    marcio@dominioemail.com.br          4\n",
              "384             16     RENATO  ...     renato@servicodoemail.com          2\n",
              "337             16       ALEX  ...      alex@dominioemail.com.br          2\n",
              "154             16  CRISTIANO  ...  cristiano@servicodoemail.com          3\n",
              "66              16       LUAN  ...      luan@dominioemail.com.br          7\n",
              "15              16     VAGNER  ...     vagner@servicodoemail.com          1\n",
              "44              16    NICOLAS  ...   nicolas@dominioemail.com.br          2\n",
              "271             16     NILTON  ...    nilton@dominioemail.com.br          6\n",
              "376             16    AUGUSTO  ...   augusto@dominioemail.com.br          2\n",
              "159             16    ORLANDO  ...    orlando@servicodoemail.com          1\n",
              "147             16   VINICIOS  ...   vinicios@servicodoemail.com          7\n",
              "351             16    EMANUEL  ...    emanuel@servicodoemail.com          2\n",
              "362             16    NIVALDO  ...    nivaldo@servicodoemail.com          1\n",
              "\n",
              "[21 rows x 5 columns]"
            ]
          },
          "metadata": {
            "tags": []
          },
          "execution_count": 379
        }
      ]
    },
    {
      "cell_type": "code",
      "metadata": {
        "id": "ASmrC4Mn-BVU"
      },
      "source": [
        "# tirar os campos desnecessarios"
      ],
      "execution_count": null,
      "outputs": []
    },
    {
      "cell_type": "code",
      "metadata": {
        "colab": {
          "base_uri": "https://localhost:8080/"
        },
        "id": "PIIKWVx4-euC",
        "outputId": "0e66e965-cb9c-4977-9f97-ce73d16fae5b"
      },
      "source": [
        "proxima_turma.set_index('id_aluno').join(nomes.set_index('id_aluno'))['nome']\r\n"
      ],
      "execution_count": 380,
      "outputs": [
        {
          "output_type": "execute_result",
          "data": {
            "text/plain": [
              "id_aluno\n",
              "10       MARIANA\n",
              "233       ELAINE\n",
              "281       REGINA\n",
              "203      TATIANE\n",
              "381     CRISTINA\n",
              "289        IVONE\n",
              "137        DALVA\n",
              "321     FERNANDO\n",
              "322       MARCIO\n",
              "384       RENATO\n",
              "337         ALEX\n",
              "154    CRISTIANO\n",
              "66          LUAN\n",
              "15        VAGNER\n",
              "44       NICOLAS\n",
              "271       NILTON\n",
              "376      AUGUSTO\n",
              "159      ORLANDO\n",
              "147     VINICIOS\n",
              "351      EMANUEL\n",
              "362      NIVALDO\n",
              "Name: nome, dtype: object"
            ]
          },
          "metadata": {
            "tags": []
          },
          "execution_count": 380
        }
      ]
    },
    {
      "cell_type": "code",
      "metadata": {
        "colab": {
          "base_uri": "https://localhost:8080/",
          "height": 731
        },
        "id": "ulwsmGtp-qAp",
        "outputId": "1ad1259f-e947-4c97-f949-c8fa02d1083c"
      },
      "source": [
        "proxima_turma.set_index('id_aluno').join(nomes.set_index('id_aluno'))['nome'].to_frame()"
      ],
      "execution_count": 381,
      "outputs": [
        {
          "output_type": "execute_result",
          "data": {
            "text/html": [
              "<div>\n",
              "<style scoped>\n",
              "    .dataframe tbody tr th:only-of-type {\n",
              "        vertical-align: middle;\n",
              "    }\n",
              "\n",
              "    .dataframe tbody tr th {\n",
              "        vertical-align: top;\n",
              "    }\n",
              "\n",
              "    .dataframe thead th {\n",
              "        text-align: right;\n",
              "    }\n",
              "</style>\n",
              "<table border=\"1\" class=\"dataframe\">\n",
              "  <thead>\n",
              "    <tr style=\"text-align: right;\">\n",
              "      <th></th>\n",
              "      <th>nome</th>\n",
              "    </tr>\n",
              "    <tr>\n",
              "      <th>id_aluno</th>\n",
              "      <th></th>\n",
              "    </tr>\n",
              "  </thead>\n",
              "  <tbody>\n",
              "    <tr>\n",
              "      <th>10</th>\n",
              "      <td>MARIANA</td>\n",
              "    </tr>\n",
              "    <tr>\n",
              "      <th>233</th>\n",
              "      <td>ELAINE</td>\n",
              "    </tr>\n",
              "    <tr>\n",
              "      <th>281</th>\n",
              "      <td>REGINA</td>\n",
              "    </tr>\n",
              "    <tr>\n",
              "      <th>203</th>\n",
              "      <td>TATIANE</td>\n",
              "    </tr>\n",
              "    <tr>\n",
              "      <th>381</th>\n",
              "      <td>CRISTINA</td>\n",
              "    </tr>\n",
              "    <tr>\n",
              "      <th>289</th>\n",
              "      <td>IVONE</td>\n",
              "    </tr>\n",
              "    <tr>\n",
              "      <th>137</th>\n",
              "      <td>DALVA</td>\n",
              "    </tr>\n",
              "    <tr>\n",
              "      <th>321</th>\n",
              "      <td>FERNANDO</td>\n",
              "    </tr>\n",
              "    <tr>\n",
              "      <th>322</th>\n",
              "      <td>MARCIO</td>\n",
              "    </tr>\n",
              "    <tr>\n",
              "      <th>384</th>\n",
              "      <td>RENATO</td>\n",
              "    </tr>\n",
              "    <tr>\n",
              "      <th>337</th>\n",
              "      <td>ALEX</td>\n",
              "    </tr>\n",
              "    <tr>\n",
              "      <th>154</th>\n",
              "      <td>CRISTIANO</td>\n",
              "    </tr>\n",
              "    <tr>\n",
              "      <th>66</th>\n",
              "      <td>LUAN</td>\n",
              "    </tr>\n",
              "    <tr>\n",
              "      <th>15</th>\n",
              "      <td>VAGNER</td>\n",
              "    </tr>\n",
              "    <tr>\n",
              "      <th>44</th>\n",
              "      <td>NICOLAS</td>\n",
              "    </tr>\n",
              "    <tr>\n",
              "      <th>271</th>\n",
              "      <td>NILTON</td>\n",
              "    </tr>\n",
              "    <tr>\n",
              "      <th>376</th>\n",
              "      <td>AUGUSTO</td>\n",
              "    </tr>\n",
              "    <tr>\n",
              "      <th>159</th>\n",
              "      <td>ORLANDO</td>\n",
              "    </tr>\n",
              "    <tr>\n",
              "      <th>147</th>\n",
              "      <td>VINICIOS</td>\n",
              "    </tr>\n",
              "    <tr>\n",
              "      <th>351</th>\n",
              "      <td>EMANUEL</td>\n",
              "    </tr>\n",
              "    <tr>\n",
              "      <th>362</th>\n",
              "      <td>NIVALDO</td>\n",
              "    </tr>\n",
              "  </tbody>\n",
              "</table>\n",
              "</div>"
            ],
            "text/plain": [
              "               nome\n",
              "id_aluno           \n",
              "10          MARIANA\n",
              "233          ELAINE\n",
              "281          REGINA\n",
              "203         TATIANE\n",
              "381        CRISTINA\n",
              "289           IVONE\n",
              "137           DALVA\n",
              "321        FERNANDO\n",
              "322          MARCIO\n",
              "384          RENATO\n",
              "337            ALEX\n",
              "154       CRISTIANO\n",
              "66             LUAN\n",
              "15           VAGNER\n",
              "44          NICOLAS\n",
              "271          NILTON\n",
              "376         AUGUSTO\n",
              "159         ORLANDO\n",
              "147        VINICIOS\n",
              "351         EMANUEL\n",
              "362         NIVALDO"
            ]
          },
          "metadata": {
            "tags": []
          },
          "execution_count": 381
        }
      ]
    },
    {
      "cell_type": "code",
      "metadata": {
        "colab": {
          "base_uri": "https://localhost:8080/"
        },
        "id": "s-JntOs7-ypx",
        "outputId": "95d49d5a-ea30-4d54-e5a2-76f4dcd4bdf6"
      },
      "source": [
        "nome_curso = cursos.loc[id_curso]\r\n",
        "nome_curso"
      ],
      "execution_count": 382,
      "outputs": [
        {
          "output_type": "execute_result",
          "data": {
            "text/plain": [
              "Nome do curso    Estatística básica\n",
              "Name: 16, dtype: object"
            ]
          },
          "metadata": {
            "tags": []
          },
          "execution_count": 382
        }
      ]
    },
    {
      "cell_type": "code",
      "metadata": {
        "colab": {
          "base_uri": "https://localhost:8080/"
        },
        "id": "tIxAj9H6_KyQ",
        "outputId": "6ab23048-434f-41fa-a4d8-315e7388615e"
      },
      "source": [
        "nome_curso = nome_curso\r\n",
        "nome_curso"
      ],
      "execution_count": 387,
      "outputs": [
        {
          "output_type": "execute_result",
          "data": {
            "text/plain": [
              "Nome do curso    Estatística básica\n",
              "Name: 16, dtype: object"
            ]
          },
          "metadata": {
            "tags": []
          },
          "execution_count": 387
        }
      ]
    },
    {
      "cell_type": "code",
      "metadata": {
        "id": "PT7Ti_CA_Tzn"
      },
      "source": [
        "proxima_turma = proxima_turma.set_index('id_aluno').join(nomes.set_index('id_aluno'))['nome'].to_frame()"
      ],
      "execution_count": 388,
      "outputs": []
    },
    {
      "cell_type": "code",
      "metadata": {
        "colab": {
          "base_uri": "https://localhost:8080/",
          "height": 731
        },
        "id": "_6sKIiANAeuS",
        "outputId": "bbab4a5c-44a1-4b25-800f-26a915b3a35d"
      },
      "source": [
        "proxima_turma"
      ],
      "execution_count": 389,
      "outputs": [
        {
          "output_type": "execute_result",
          "data": {
            "text/html": [
              "<div>\n",
              "<style scoped>\n",
              "    .dataframe tbody tr th:only-of-type {\n",
              "        vertical-align: middle;\n",
              "    }\n",
              "\n",
              "    .dataframe tbody tr th {\n",
              "        vertical-align: top;\n",
              "    }\n",
              "\n",
              "    .dataframe thead th {\n",
              "        text-align: right;\n",
              "    }\n",
              "</style>\n",
              "<table border=\"1\" class=\"dataframe\">\n",
              "  <thead>\n",
              "    <tr style=\"text-align: right;\">\n",
              "      <th></th>\n",
              "      <th>nome</th>\n",
              "    </tr>\n",
              "    <tr>\n",
              "      <th>id_aluno</th>\n",
              "      <th></th>\n",
              "    </tr>\n",
              "  </thead>\n",
              "  <tbody>\n",
              "    <tr>\n",
              "      <th>10</th>\n",
              "      <td>MARIANA</td>\n",
              "    </tr>\n",
              "    <tr>\n",
              "      <th>233</th>\n",
              "      <td>ELAINE</td>\n",
              "    </tr>\n",
              "    <tr>\n",
              "      <th>281</th>\n",
              "      <td>REGINA</td>\n",
              "    </tr>\n",
              "    <tr>\n",
              "      <th>203</th>\n",
              "      <td>TATIANE</td>\n",
              "    </tr>\n",
              "    <tr>\n",
              "      <th>381</th>\n",
              "      <td>CRISTINA</td>\n",
              "    </tr>\n",
              "    <tr>\n",
              "      <th>289</th>\n",
              "      <td>IVONE</td>\n",
              "    </tr>\n",
              "    <tr>\n",
              "      <th>137</th>\n",
              "      <td>DALVA</td>\n",
              "    </tr>\n",
              "    <tr>\n",
              "      <th>321</th>\n",
              "      <td>FERNANDO</td>\n",
              "    </tr>\n",
              "    <tr>\n",
              "      <th>322</th>\n",
              "      <td>MARCIO</td>\n",
              "    </tr>\n",
              "    <tr>\n",
              "      <th>384</th>\n",
              "      <td>RENATO</td>\n",
              "    </tr>\n",
              "    <tr>\n",
              "      <th>337</th>\n",
              "      <td>ALEX</td>\n",
              "    </tr>\n",
              "    <tr>\n",
              "      <th>154</th>\n",
              "      <td>CRISTIANO</td>\n",
              "    </tr>\n",
              "    <tr>\n",
              "      <th>66</th>\n",
              "      <td>LUAN</td>\n",
              "    </tr>\n",
              "    <tr>\n",
              "      <th>15</th>\n",
              "      <td>VAGNER</td>\n",
              "    </tr>\n",
              "    <tr>\n",
              "      <th>44</th>\n",
              "      <td>NICOLAS</td>\n",
              "    </tr>\n",
              "    <tr>\n",
              "      <th>271</th>\n",
              "      <td>NILTON</td>\n",
              "    </tr>\n",
              "    <tr>\n",
              "      <th>376</th>\n",
              "      <td>AUGUSTO</td>\n",
              "    </tr>\n",
              "    <tr>\n",
              "      <th>159</th>\n",
              "      <td>ORLANDO</td>\n",
              "    </tr>\n",
              "    <tr>\n",
              "      <th>147</th>\n",
              "      <td>VINICIOS</td>\n",
              "    </tr>\n",
              "    <tr>\n",
              "      <th>351</th>\n",
              "      <td>EMANUEL</td>\n",
              "    </tr>\n",
              "    <tr>\n",
              "      <th>362</th>\n",
              "      <td>NIVALDO</td>\n",
              "    </tr>\n",
              "  </tbody>\n",
              "</table>\n",
              "</div>"
            ],
            "text/plain": [
              "               nome\n",
              "id_aluno           \n",
              "10          MARIANA\n",
              "233          ELAINE\n",
              "281          REGINA\n",
              "203         TATIANE\n",
              "381        CRISTINA\n",
              "289           IVONE\n",
              "137           DALVA\n",
              "321        FERNANDO\n",
              "322          MARCIO\n",
              "384          RENATO\n",
              "337            ALEX\n",
              "154       CRISTIANO\n",
              "66             LUAN\n",
              "15           VAGNER\n",
              "44          NICOLAS\n",
              "271          NILTON\n",
              "376         AUGUSTO\n",
              "159         ORLANDO\n",
              "147        VINICIOS\n",
              "351         EMANUEL\n",
              "362         NIVALDO"
            ]
          },
          "metadata": {
            "tags": []
          },
          "execution_count": 389
        }
      ]
    },
    {
      "cell_type": "code",
      "metadata": {
        "id": "Xj4pMm8kAlJC"
      },
      "source": [
        "proxima_turma = proxima_turma.rename(columns = {'nome' : 'Alunos do curso de {}'.format(nome_curso)})"
      ],
      "execution_count": 390,
      "outputs": []
    },
    {
      "cell_type": "code",
      "metadata": {
        "colab": {
          "base_uri": "https://localhost:8080/",
          "height": 235
        },
        "id": "h2VnsnrbAg4a",
        "outputId": "ed66edfd-6cd5-4e6d-c1d9-022a02cf72a6"
      },
      "source": [
        "proxima_turma.head(5)"
      ],
      "execution_count": 391,
      "outputs": [
        {
          "output_type": "execute_result",
          "data": {
            "text/html": [
              "<div>\n",
              "<style scoped>\n",
              "    .dataframe tbody tr th:only-of-type {\n",
              "        vertical-align: middle;\n",
              "    }\n",
              "\n",
              "    .dataframe tbody tr th {\n",
              "        vertical-align: top;\n",
              "    }\n",
              "\n",
              "    .dataframe thead th {\n",
              "        text-align: right;\n",
              "    }\n",
              "</style>\n",
              "<table border=\"1\" class=\"dataframe\">\n",
              "  <thead>\n",
              "    <tr style=\"text-align: right;\">\n",
              "      <th></th>\n",
              "      <th>Alunos do curso de Nome do curso    Estatística básica\\nName: 16, dtype: object</th>\n",
              "    </tr>\n",
              "    <tr>\n",
              "      <th>id_aluno</th>\n",
              "      <th></th>\n",
              "    </tr>\n",
              "  </thead>\n",
              "  <tbody>\n",
              "    <tr>\n",
              "      <th>10</th>\n",
              "      <td>MARIANA</td>\n",
              "    </tr>\n",
              "    <tr>\n",
              "      <th>233</th>\n",
              "      <td>ELAINE</td>\n",
              "    </tr>\n",
              "    <tr>\n",
              "      <th>281</th>\n",
              "      <td>REGINA</td>\n",
              "    </tr>\n",
              "    <tr>\n",
              "      <th>203</th>\n",
              "      <td>TATIANE</td>\n",
              "    </tr>\n",
              "    <tr>\n",
              "      <th>381</th>\n",
              "      <td>CRISTINA</td>\n",
              "    </tr>\n",
              "  </tbody>\n",
              "</table>\n",
              "</div>"
            ],
            "text/plain": [
              "         Alunos do curso de Nome do curso    Estatística básica\\nName: 16, dtype: object\n",
              "id_aluno                                                                                \n",
              "10                                                  MARIANA                             \n",
              "233                                                  ELAINE                             \n",
              "281                                                  REGINA                             \n",
              "203                                                 TATIANE                             \n",
              "381                                                CRISTINA                             "
            ]
          },
          "metadata": {
            "tags": []
          },
          "execution_count": 391
        }
      ]
    },
    {
      "cell_type": "code",
      "metadata": {
        "id": "zJXJjvT3Bb4P"
      },
      "source": [
        ""
      ],
      "execution_count": null,
      "outputs": []
    },
    {
      "cell_type": "code",
      "metadata": {
        "id": "1HPukC2YExc6"
      },
      "source": [
        ""
      ],
      "execution_count": null,
      "outputs": []
    },
    {
      "cell_type": "markdown",
      "metadata": {
        "id": "tq1oJUnYExsS"
      },
      "source": [
        "#EXCEL"
      ]
    },
    {
      "cell_type": "code",
      "metadata": {
        "id": "Vo4Rp8iHEzYa"
      },
      "source": [
        "proxima_turma.to_excel('proxima_turma.xlsx', index=False) # sem o index -> false"
      ],
      "execution_count": 392,
      "outputs": []
    },
    {
      "cell_type": "code",
      "metadata": {
        "id": "dAbTkp7TFPjL"
      },
      "source": [
        ""
      ],
      "execution_count": null,
      "outputs": []
    }
  ]
}